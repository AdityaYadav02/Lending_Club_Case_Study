{
 "cells": [
  {
   "cell_type": "markdown",
   "metadata": {},
   "source": [
    "# Lending Club Case Study - Exploratory Data Analysis\n",
    "\n",
    "### Structure of notebook\n",
    "\n",
    "    Problem Statement\n",
    "    Solution - EDA\n",
    "        1. Import libraries & Source data\n",
    "        2. Data Understanding\n",
    "        3. Data Cleaning\n",
    "        4. Exploratory Data Analysis\n",
    "            4.1 Loan distribution & defaulters – “A birds eye view”\n",
    "            4.2 Univariate Analysis - Loan Characteristics/Applicant Variables\n",
    "                4.2.1 Loan characteristics analysis\n",
    "                4.2.2 Applicant variable analysis\n",
    "            4.3 Bi-variate Analysis and Segmented Analysis to identify factors\n",
    "                4.3.1 Loan characteristics analysis\n",
    "                4.3.2 Applicant variable analysis\n",
    "                4.3.3 Correlation matrix\n",
    "    Recommendations\n",
    "    End of file          \n",
    "\n"
   ]
  },
  {
   "cell_type": "markdown",
   "metadata": {},
   "source": [
    "# Problem Statement\n",
    "\n",
    "\n",
    "Assignment Brief:\n",
    "You work for a consumer finance company Lending Club which specialises in lending various types of loans to urban customers. This company is the largest online loan marketplace, facilitating personal loans, business loans, and financing of medical procedures. Borrowers can easily access lower interest rate loans through a fast online interface. When the company receives a loan application, the company has to make a decision for loan approval based on the applicant’s profile. When a person applies for a loan, there are two types of decisions that could be taken by the company:\n",
    "\n",
    "1. Loan accepted: If the company approves the loan, there are 3 possible scenarios described below:\n",
    "\n",
    "Fully paid: Applicant has fully paid the loan (the principal and the interest rate)\n",
    "\n",
    "Current: Applicant is in the process of paying the instalments, i.e. the tenure of the loan is not yet completed. These candidates are not labelled as 'defaulted'.\n",
    "\n",
    "Charged-off: Applicant has not paid the instalments in due time for a long period of time, i.e. he/she has defaulted on the loan\n",
    "\n",
    "2. Loan rejected: The company had rejected the loan (because the candidate does not meet their requirements etc.). Since the loan was rejected, there is no transactional history of those applicants with the company and so this data is not available with the company (and thus in this dataset)\n",
    "\n",
    "Business Objectives:\n",
    "Like most other lending companies, lending loans to ‘risky’ applicants is the largest source of financial loss (called credit loss). The credit loss is the amount of money lost by the lender when the borrower refuses to pay or runs away with the money owed. In other words, borrowers who default cause the largest amount of loss to the lenders.\n",
    "\n",
    "Objective is to identify the risky loan applicants at the time of loan application so that such loans can be reduced thereby cutting down the amount of credit loss. Identification of such applicants using EDA is the aim of this case study.\n",
    "\n",
    "In other words, to understand the driving factors (or driver variables) behind loan default, i.e. the variables which are strong indicators of default. The company can utilise this knowledge for its portfolio and risk assessment. And thus minimise the risk of losing money while lending to customers."
   ]
  },
  {
   "cell_type": "markdown",
   "metadata": {},
   "source": [
    "# Solution - EDA\n",
    "\n",
    "Data: We have been provided with the Private Data of Lending Club. The complete loan data for all loans issued through the time period 2007 to 2011. We also have a data dictionary which describes the meaning of these variables."
   ]
  },
  {
   "cell_type": "markdown",
   "metadata": {},
   "source": [
    "## 1. Import libraries & Source data\n",
    "\n",
    "Let's start with importing all the required libraries for the analysis."
   ]
  },
  {
   "cell_type": "code",
   "execution_count": 1,
   "metadata": {},
   "outputs": [],
   "source": [
    "import numpy as np\n",
    "import pandas as pd\n",
    "import matplotlib.pyplot as plt\n",
    "import seaborn as sns\n",
    "import re\n",
    "pd.set_option('display.max_rows', 100)"
   ]
  },
  {
   "cell_type": "code",
   "execution_count": 2,
   "metadata": {},
   "outputs": [],
   "source": [
    "loan = pd.read_csv(\"loan.csv\",low_memory=False)"
   ]
  },
  {
   "cell_type": "markdown",
   "metadata": {},
   "source": [
    "## 2. Data Understanding"
   ]
  },
  {
   "cell_type": "code",
   "execution_count": 3,
   "metadata": {
    "scrolled": false
   },
   "outputs": [
    {
     "name": "stdout",
     "output_type": "stream",
     "text": [
      "<class 'pandas.core.frame.DataFrame'>\n",
      "RangeIndex: 39717 entries, 0 to 39716\n",
      "Data columns (total 111 columns):\n",
      " #   Column                          Dtype  \n",
      "---  ------                          -----  \n",
      " 0   id                              int64  \n",
      " 1   member_id                       int64  \n",
      " 2   loan_amnt                       int64  \n",
      " 3   funded_amnt                     int64  \n",
      " 4   funded_amnt_inv                 float64\n",
      " 5   term                            object \n",
      " 6   int_rate                        object \n",
      " 7   installment                     float64\n",
      " 8   grade                           object \n",
      " 9   sub_grade                       object \n",
      " 10  emp_title                       object \n",
      " 11  emp_length                      object \n",
      " 12  home_ownership                  object \n",
      " 13  annual_inc                      float64\n",
      " 14  verification_status             object \n",
      " 15  issue_d                         object \n",
      " 16  loan_status                     object \n",
      " 17  pymnt_plan                      object \n",
      " 18  url                             object \n",
      " 19  desc                            object \n",
      " 20  purpose                         object \n",
      " 21  title                           object \n",
      " 22  zip_code                        object \n",
      " 23  addr_state                      object \n",
      " 24  dti                             float64\n",
      " 25  delinq_2yrs                     int64  \n",
      " 26  earliest_cr_line                object \n",
      " 27  inq_last_6mths                  int64  \n",
      " 28  mths_since_last_delinq          float64\n",
      " 29  mths_since_last_record          float64\n",
      " 30  open_acc                        int64  \n",
      " 31  pub_rec                         int64  \n",
      " 32  revol_bal                       int64  \n",
      " 33  revol_util                      object \n",
      " 34  total_acc                       int64  \n",
      " 35  initial_list_status             object \n",
      " 36  out_prncp                       float64\n",
      " 37  out_prncp_inv                   float64\n",
      " 38  total_pymnt                     float64\n",
      " 39  total_pymnt_inv                 float64\n",
      " 40  total_rec_prncp                 float64\n",
      " 41  total_rec_int                   float64\n",
      " 42  total_rec_late_fee              float64\n",
      " 43  recoveries                      float64\n",
      " 44  collection_recovery_fee         float64\n",
      " 45  last_pymnt_d                    object \n",
      " 46  last_pymnt_amnt                 float64\n",
      " 47  next_pymnt_d                    object \n",
      " 48  last_credit_pull_d              object \n",
      " 49  collections_12_mths_ex_med      float64\n",
      " 50  mths_since_last_major_derog     float64\n",
      " 51  policy_code                     int64  \n",
      " 52  application_type                object \n",
      " 53  annual_inc_joint                float64\n",
      " 54  dti_joint                       float64\n",
      " 55  verification_status_joint       float64\n",
      " 56  acc_now_delinq                  int64  \n",
      " 57  tot_coll_amt                    float64\n",
      " 58  tot_cur_bal                     float64\n",
      " 59  open_acc_6m                     float64\n",
      " 60  open_il_6m                      float64\n",
      " 61  open_il_12m                     float64\n",
      " 62  open_il_24m                     float64\n",
      " 63  mths_since_rcnt_il              float64\n",
      " 64  total_bal_il                    float64\n",
      " 65  il_util                         float64\n",
      " 66  open_rv_12m                     float64\n",
      " 67  open_rv_24m                     float64\n",
      " 68  max_bal_bc                      float64\n",
      " 69  all_util                        float64\n",
      " 70  total_rev_hi_lim                float64\n",
      " 71  inq_fi                          float64\n",
      " 72  total_cu_tl                     float64\n",
      " 73  inq_last_12m                    float64\n",
      " 74  acc_open_past_24mths            float64\n",
      " 75  avg_cur_bal                     float64\n",
      " 76  bc_open_to_buy                  float64\n",
      " 77  bc_util                         float64\n",
      " 78  chargeoff_within_12_mths        float64\n",
      " 79  delinq_amnt                     int64  \n",
      " 80  mo_sin_old_il_acct              float64\n",
      " 81  mo_sin_old_rev_tl_op            float64\n",
      " 82  mo_sin_rcnt_rev_tl_op           float64\n",
      " 83  mo_sin_rcnt_tl                  float64\n",
      " 84  mort_acc                        float64\n",
      " 85  mths_since_recent_bc            float64\n",
      " 86  mths_since_recent_bc_dlq        float64\n",
      " 87  mths_since_recent_inq           float64\n",
      " 88  mths_since_recent_revol_delinq  float64\n",
      " 89  num_accts_ever_120_pd           float64\n",
      " 90  num_actv_bc_tl                  float64\n",
      " 91  num_actv_rev_tl                 float64\n",
      " 92  num_bc_sats                     float64\n",
      " 93  num_bc_tl                       float64\n",
      " 94  num_il_tl                       float64\n",
      " 95  num_op_rev_tl                   float64\n",
      " 96  num_rev_accts                   float64\n",
      " 97  num_rev_tl_bal_gt_0             float64\n",
      " 98  num_sats                        float64\n",
      " 99  num_tl_120dpd_2m                float64\n",
      " 100 num_tl_30dpd                    float64\n",
      " 101 num_tl_90g_dpd_24m              float64\n",
      " 102 num_tl_op_past_12m              float64\n",
      " 103 pct_tl_nvr_dlq                  float64\n",
      " 104 percent_bc_gt_75                float64\n",
      " 105 pub_rec_bankruptcies            float64\n",
      " 106 tax_liens                       float64\n",
      " 107 tot_hi_cred_lim                 float64\n",
      " 108 total_bal_ex_mort               float64\n",
      " 109 total_bc_limit                  float64\n",
      " 110 total_il_high_credit_limit      float64\n",
      "dtypes: float64(74), int64(13), object(24)\n",
      "memory usage: 33.6+ MB\n"
     ]
    }
   ],
   "source": [
    "loan.info(verbose=True)"
   ]
  },
  {
   "cell_type": "code",
   "execution_count": 4,
   "metadata": {},
   "outputs": [
    {
     "data": {
      "text/plain": [
       "(39717, 111)"
      ]
     },
     "execution_count": 4,
     "metadata": {},
     "output_type": "execute_result"
    }
   ],
   "source": [
    "loan.shape"
   ]
  },
  {
   "cell_type": "code",
   "execution_count": 5,
   "metadata": {
    "scrolled": true
   },
   "outputs": [
    {
     "data": {
      "text/html": [
       "<div>\n",
       "<style scoped>\n",
       "    .dataframe tbody tr th:only-of-type {\n",
       "        vertical-align: middle;\n",
       "    }\n",
       "\n",
       "    .dataframe tbody tr th {\n",
       "        vertical-align: top;\n",
       "    }\n",
       "\n",
       "    .dataframe thead th {\n",
       "        text-align: right;\n",
       "    }\n",
       "</style>\n",
       "<table border=\"1\" class=\"dataframe\">\n",
       "  <thead>\n",
       "    <tr style=\"text-align: right;\">\n",
       "      <th></th>\n",
       "      <th>count</th>\n",
       "      <th>mean</th>\n",
       "      <th>std</th>\n",
       "      <th>min</th>\n",
       "      <th>25%</th>\n",
       "      <th>50%</th>\n",
       "      <th>75%</th>\n",
       "      <th>max</th>\n",
       "    </tr>\n",
       "  </thead>\n",
       "  <tbody>\n",
       "    <tr>\n",
       "      <th>id</th>\n",
       "      <td>39717.0</td>\n",
       "      <td>683131.913060</td>\n",
       "      <td>210694.132915</td>\n",
       "      <td>54734.00</td>\n",
       "      <td>516221.00</td>\n",
       "      <td>665665.000000</td>\n",
       "      <td>8.377550e+05</td>\n",
       "      <td>1.077501e+06</td>\n",
       "    </tr>\n",
       "    <tr>\n",
       "      <th>member_id</th>\n",
       "      <td>39717.0</td>\n",
       "      <td>850463.559408</td>\n",
       "      <td>265678.307421</td>\n",
       "      <td>70699.00</td>\n",
       "      <td>666780.00</td>\n",
       "      <td>850812.000000</td>\n",
       "      <td>1.047339e+06</td>\n",
       "      <td>1.314167e+06</td>\n",
       "    </tr>\n",
       "    <tr>\n",
       "      <th>loan_amnt</th>\n",
       "      <td>39717.0</td>\n",
       "      <td>11219.443815</td>\n",
       "      <td>7456.670694</td>\n",
       "      <td>500.00</td>\n",
       "      <td>5500.00</td>\n",
       "      <td>10000.000000</td>\n",
       "      <td>1.500000e+04</td>\n",
       "      <td>3.500000e+04</td>\n",
       "    </tr>\n",
       "    <tr>\n",
       "      <th>funded_amnt</th>\n",
       "      <td>39717.0</td>\n",
       "      <td>10947.713196</td>\n",
       "      <td>7187.238670</td>\n",
       "      <td>500.00</td>\n",
       "      <td>5400.00</td>\n",
       "      <td>9600.000000</td>\n",
       "      <td>1.500000e+04</td>\n",
       "      <td>3.500000e+04</td>\n",
       "    </tr>\n",
       "    <tr>\n",
       "      <th>funded_amnt_inv</th>\n",
       "      <td>39717.0</td>\n",
       "      <td>10397.448868</td>\n",
       "      <td>7128.450439</td>\n",
       "      <td>0.00</td>\n",
       "      <td>5000.00</td>\n",
       "      <td>8975.000000</td>\n",
       "      <td>1.440000e+04</td>\n",
       "      <td>3.500000e+04</td>\n",
       "    </tr>\n",
       "    <tr>\n",
       "      <th>installment</th>\n",
       "      <td>39717.0</td>\n",
       "      <td>324.561922</td>\n",
       "      <td>208.874874</td>\n",
       "      <td>15.69</td>\n",
       "      <td>167.02</td>\n",
       "      <td>280.220000</td>\n",
       "      <td>4.307800e+02</td>\n",
       "      <td>1.305190e+03</td>\n",
       "    </tr>\n",
       "    <tr>\n",
       "      <th>annual_inc</th>\n",
       "      <td>39717.0</td>\n",
       "      <td>68968.926377</td>\n",
       "      <td>63793.765790</td>\n",
       "      <td>4000.00</td>\n",
       "      <td>40404.00</td>\n",
       "      <td>59000.000000</td>\n",
       "      <td>8.230000e+04</td>\n",
       "      <td>6.000000e+06</td>\n",
       "    </tr>\n",
       "    <tr>\n",
       "      <th>dti</th>\n",
       "      <td>39717.0</td>\n",
       "      <td>13.315130</td>\n",
       "      <td>6.678594</td>\n",
       "      <td>0.00</td>\n",
       "      <td>8.17</td>\n",
       "      <td>13.400000</td>\n",
       "      <td>1.860000e+01</td>\n",
       "      <td>2.999000e+01</td>\n",
       "    </tr>\n",
       "    <tr>\n",
       "      <th>delinq_2yrs</th>\n",
       "      <td>39717.0</td>\n",
       "      <td>0.146512</td>\n",
       "      <td>0.491812</td>\n",
       "      <td>0.00</td>\n",
       "      <td>0.00</td>\n",
       "      <td>0.000000</td>\n",
       "      <td>0.000000e+00</td>\n",
       "      <td>1.100000e+01</td>\n",
       "    </tr>\n",
       "    <tr>\n",
       "      <th>inq_last_6mths</th>\n",
       "      <td>39717.0</td>\n",
       "      <td>0.869200</td>\n",
       "      <td>1.070219</td>\n",
       "      <td>0.00</td>\n",
       "      <td>0.00</td>\n",
       "      <td>1.000000</td>\n",
       "      <td>1.000000e+00</td>\n",
       "      <td>8.000000e+00</td>\n",
       "    </tr>\n",
       "    <tr>\n",
       "      <th>mths_since_last_delinq</th>\n",
       "      <td>14035.0</td>\n",
       "      <td>35.900962</td>\n",
       "      <td>22.020060</td>\n",
       "      <td>0.00</td>\n",
       "      <td>18.00</td>\n",
       "      <td>34.000000</td>\n",
       "      <td>5.200000e+01</td>\n",
       "      <td>1.200000e+02</td>\n",
       "    </tr>\n",
       "    <tr>\n",
       "      <th>mths_since_last_record</th>\n",
       "      <td>2786.0</td>\n",
       "      <td>69.698134</td>\n",
       "      <td>43.822529</td>\n",
       "      <td>0.00</td>\n",
       "      <td>22.00</td>\n",
       "      <td>90.000000</td>\n",
       "      <td>1.040000e+02</td>\n",
       "      <td>1.290000e+02</td>\n",
       "    </tr>\n",
       "    <tr>\n",
       "      <th>open_acc</th>\n",
       "      <td>39717.0</td>\n",
       "      <td>9.294408</td>\n",
       "      <td>4.400282</td>\n",
       "      <td>2.00</td>\n",
       "      <td>6.00</td>\n",
       "      <td>9.000000</td>\n",
       "      <td>1.200000e+01</td>\n",
       "      <td>4.400000e+01</td>\n",
       "    </tr>\n",
       "    <tr>\n",
       "      <th>pub_rec</th>\n",
       "      <td>39717.0</td>\n",
       "      <td>0.055065</td>\n",
       "      <td>0.237200</td>\n",
       "      <td>0.00</td>\n",
       "      <td>0.00</td>\n",
       "      <td>0.000000</td>\n",
       "      <td>0.000000e+00</td>\n",
       "      <td>4.000000e+00</td>\n",
       "    </tr>\n",
       "    <tr>\n",
       "      <th>revol_bal</th>\n",
       "      <td>39717.0</td>\n",
       "      <td>13382.528086</td>\n",
       "      <td>15885.016641</td>\n",
       "      <td>0.00</td>\n",
       "      <td>3703.00</td>\n",
       "      <td>8850.000000</td>\n",
       "      <td>1.705800e+04</td>\n",
       "      <td>1.495880e+05</td>\n",
       "    </tr>\n",
       "    <tr>\n",
       "      <th>total_acc</th>\n",
       "      <td>39717.0</td>\n",
       "      <td>22.088828</td>\n",
       "      <td>11.401709</td>\n",
       "      <td>2.00</td>\n",
       "      <td>13.00</td>\n",
       "      <td>20.000000</td>\n",
       "      <td>2.900000e+01</td>\n",
       "      <td>9.000000e+01</td>\n",
       "    </tr>\n",
       "    <tr>\n",
       "      <th>out_prncp</th>\n",
       "      <td>39717.0</td>\n",
       "      <td>51.227887</td>\n",
       "      <td>375.172839</td>\n",
       "      <td>0.00</td>\n",
       "      <td>0.00</td>\n",
       "      <td>0.000000</td>\n",
       "      <td>0.000000e+00</td>\n",
       "      <td>6.311470e+03</td>\n",
       "    </tr>\n",
       "    <tr>\n",
       "      <th>out_prncp_inv</th>\n",
       "      <td>39717.0</td>\n",
       "      <td>50.989768</td>\n",
       "      <td>373.824457</td>\n",
       "      <td>0.00</td>\n",
       "      <td>0.00</td>\n",
       "      <td>0.000000</td>\n",
       "      <td>0.000000e+00</td>\n",
       "      <td>6.307370e+03</td>\n",
       "    </tr>\n",
       "    <tr>\n",
       "      <th>total_pymnt</th>\n",
       "      <td>39717.0</td>\n",
       "      <td>12153.596544</td>\n",
       "      <td>9042.040766</td>\n",
       "      <td>0.00</td>\n",
       "      <td>5576.93</td>\n",
       "      <td>9899.640319</td>\n",
       "      <td>1.653443e+04</td>\n",
       "      <td>5.856368e+04</td>\n",
       "    </tr>\n",
       "    <tr>\n",
       "      <th>total_pymnt_inv</th>\n",
       "      <td>39717.0</td>\n",
       "      <td>11567.149118</td>\n",
       "      <td>8942.672613</td>\n",
       "      <td>0.00</td>\n",
       "      <td>5112.31</td>\n",
       "      <td>9287.150000</td>\n",
       "      <td>1.579881e+04</td>\n",
       "      <td>5.856368e+04</td>\n",
       "    </tr>\n",
       "    <tr>\n",
       "      <th>total_rec_prncp</th>\n",
       "      <td>39717.0</td>\n",
       "      <td>9793.348813</td>\n",
       "      <td>7065.522127</td>\n",
       "      <td>0.00</td>\n",
       "      <td>4600.00</td>\n",
       "      <td>8000.000000</td>\n",
       "      <td>1.365326e+04</td>\n",
       "      <td>3.500002e+04</td>\n",
       "    </tr>\n",
       "    <tr>\n",
       "      <th>total_rec_int</th>\n",
       "      <td>39717.0</td>\n",
       "      <td>2263.663172</td>\n",
       "      <td>2608.111964</td>\n",
       "      <td>0.00</td>\n",
       "      <td>662.18</td>\n",
       "      <td>1348.910000</td>\n",
       "      <td>2.833400e+03</td>\n",
       "      <td>2.356368e+04</td>\n",
       "    </tr>\n",
       "    <tr>\n",
       "      <th>total_rec_late_fee</th>\n",
       "      <td>39717.0</td>\n",
       "      <td>1.363015</td>\n",
       "      <td>7.289979</td>\n",
       "      <td>0.00</td>\n",
       "      <td>0.00</td>\n",
       "      <td>0.000000</td>\n",
       "      <td>0.000000e+00</td>\n",
       "      <td>1.802000e+02</td>\n",
       "    </tr>\n",
       "    <tr>\n",
       "      <th>recoveries</th>\n",
       "      <td>39717.0</td>\n",
       "      <td>95.221624</td>\n",
       "      <td>688.744771</td>\n",
       "      <td>0.00</td>\n",
       "      <td>0.00</td>\n",
       "      <td>0.000000</td>\n",
       "      <td>0.000000e+00</td>\n",
       "      <td>2.962335e+04</td>\n",
       "    </tr>\n",
       "    <tr>\n",
       "      <th>collection_recovery_fee</th>\n",
       "      <td>39717.0</td>\n",
       "      <td>12.406112</td>\n",
       "      <td>148.671593</td>\n",
       "      <td>0.00</td>\n",
       "      <td>0.00</td>\n",
       "      <td>0.000000</td>\n",
       "      <td>0.000000e+00</td>\n",
       "      <td>7.002190e+03</td>\n",
       "    </tr>\n",
       "    <tr>\n",
       "      <th>last_pymnt_amnt</th>\n",
       "      <td>39717.0</td>\n",
       "      <td>2678.826162</td>\n",
       "      <td>4447.136012</td>\n",
       "      <td>0.00</td>\n",
       "      <td>218.68</td>\n",
       "      <td>546.140000</td>\n",
       "      <td>3.293160e+03</td>\n",
       "      <td>3.611520e+04</td>\n",
       "    </tr>\n",
       "    <tr>\n",
       "      <th>collections_12_mths_ex_med</th>\n",
       "      <td>39661.0</td>\n",
       "      <td>0.000000</td>\n",
       "      <td>0.000000</td>\n",
       "      <td>0.00</td>\n",
       "      <td>0.00</td>\n",
       "      <td>0.000000</td>\n",
       "      <td>0.000000e+00</td>\n",
       "      <td>0.000000e+00</td>\n",
       "    </tr>\n",
       "    <tr>\n",
       "      <th>mths_since_last_major_derog</th>\n",
       "      <td>0.0</td>\n",
       "      <td>NaN</td>\n",
       "      <td>NaN</td>\n",
       "      <td>NaN</td>\n",
       "      <td>NaN</td>\n",
       "      <td>NaN</td>\n",
       "      <td>NaN</td>\n",
       "      <td>NaN</td>\n",
       "    </tr>\n",
       "    <tr>\n",
       "      <th>policy_code</th>\n",
       "      <td>39717.0</td>\n",
       "      <td>1.000000</td>\n",
       "      <td>0.000000</td>\n",
       "      <td>1.00</td>\n",
       "      <td>1.00</td>\n",
       "      <td>1.000000</td>\n",
       "      <td>1.000000e+00</td>\n",
       "      <td>1.000000e+00</td>\n",
       "    </tr>\n",
       "    <tr>\n",
       "      <th>annual_inc_joint</th>\n",
       "      <td>0.0</td>\n",
       "      <td>NaN</td>\n",
       "      <td>NaN</td>\n",
       "      <td>NaN</td>\n",
       "      <td>NaN</td>\n",
       "      <td>NaN</td>\n",
       "      <td>NaN</td>\n",
       "      <td>NaN</td>\n",
       "    </tr>\n",
       "    <tr>\n",
       "      <th>dti_joint</th>\n",
       "      <td>0.0</td>\n",
       "      <td>NaN</td>\n",
       "      <td>NaN</td>\n",
       "      <td>NaN</td>\n",
       "      <td>NaN</td>\n",
       "      <td>NaN</td>\n",
       "      <td>NaN</td>\n",
       "      <td>NaN</td>\n",
       "    </tr>\n",
       "    <tr>\n",
       "      <th>verification_status_joint</th>\n",
       "      <td>0.0</td>\n",
       "      <td>NaN</td>\n",
       "      <td>NaN</td>\n",
       "      <td>NaN</td>\n",
       "      <td>NaN</td>\n",
       "      <td>NaN</td>\n",
       "      <td>NaN</td>\n",
       "      <td>NaN</td>\n",
       "    </tr>\n",
       "    <tr>\n",
       "      <th>acc_now_delinq</th>\n",
       "      <td>39717.0</td>\n",
       "      <td>0.000000</td>\n",
       "      <td>0.000000</td>\n",
       "      <td>0.00</td>\n",
       "      <td>0.00</td>\n",
       "      <td>0.000000</td>\n",
       "      <td>0.000000e+00</td>\n",
       "      <td>0.000000e+00</td>\n",
       "    </tr>\n",
       "    <tr>\n",
       "      <th>tot_coll_amt</th>\n",
       "      <td>0.0</td>\n",
       "      <td>NaN</td>\n",
       "      <td>NaN</td>\n",
       "      <td>NaN</td>\n",
       "      <td>NaN</td>\n",
       "      <td>NaN</td>\n",
       "      <td>NaN</td>\n",
       "      <td>NaN</td>\n",
       "    </tr>\n",
       "    <tr>\n",
       "      <th>tot_cur_bal</th>\n",
       "      <td>0.0</td>\n",
       "      <td>NaN</td>\n",
       "      <td>NaN</td>\n",
       "      <td>NaN</td>\n",
       "      <td>NaN</td>\n",
       "      <td>NaN</td>\n",
       "      <td>NaN</td>\n",
       "      <td>NaN</td>\n",
       "    </tr>\n",
       "    <tr>\n",
       "      <th>open_acc_6m</th>\n",
       "      <td>0.0</td>\n",
       "      <td>NaN</td>\n",
       "      <td>NaN</td>\n",
       "      <td>NaN</td>\n",
       "      <td>NaN</td>\n",
       "      <td>NaN</td>\n",
       "      <td>NaN</td>\n",
       "      <td>NaN</td>\n",
       "    </tr>\n",
       "    <tr>\n",
       "      <th>open_il_6m</th>\n",
       "      <td>0.0</td>\n",
       "      <td>NaN</td>\n",
       "      <td>NaN</td>\n",
       "      <td>NaN</td>\n",
       "      <td>NaN</td>\n",
       "      <td>NaN</td>\n",
       "      <td>NaN</td>\n",
       "      <td>NaN</td>\n",
       "    </tr>\n",
       "    <tr>\n",
       "      <th>open_il_12m</th>\n",
       "      <td>0.0</td>\n",
       "      <td>NaN</td>\n",
       "      <td>NaN</td>\n",
       "      <td>NaN</td>\n",
       "      <td>NaN</td>\n",
       "      <td>NaN</td>\n",
       "      <td>NaN</td>\n",
       "      <td>NaN</td>\n",
       "    </tr>\n",
       "    <tr>\n",
       "      <th>open_il_24m</th>\n",
       "      <td>0.0</td>\n",
       "      <td>NaN</td>\n",
       "      <td>NaN</td>\n",
       "      <td>NaN</td>\n",
       "      <td>NaN</td>\n",
       "      <td>NaN</td>\n",
       "      <td>NaN</td>\n",
       "      <td>NaN</td>\n",
       "    </tr>\n",
       "    <tr>\n",
       "      <th>mths_since_rcnt_il</th>\n",
       "      <td>0.0</td>\n",
       "      <td>NaN</td>\n",
       "      <td>NaN</td>\n",
       "      <td>NaN</td>\n",
       "      <td>NaN</td>\n",
       "      <td>NaN</td>\n",
       "      <td>NaN</td>\n",
       "      <td>NaN</td>\n",
       "    </tr>\n",
       "    <tr>\n",
       "      <th>total_bal_il</th>\n",
       "      <td>0.0</td>\n",
       "      <td>NaN</td>\n",
       "      <td>NaN</td>\n",
       "      <td>NaN</td>\n",
       "      <td>NaN</td>\n",
       "      <td>NaN</td>\n",
       "      <td>NaN</td>\n",
       "      <td>NaN</td>\n",
       "    </tr>\n",
       "    <tr>\n",
       "      <th>il_util</th>\n",
       "      <td>0.0</td>\n",
       "      <td>NaN</td>\n",
       "      <td>NaN</td>\n",
       "      <td>NaN</td>\n",
       "      <td>NaN</td>\n",
       "      <td>NaN</td>\n",
       "      <td>NaN</td>\n",
       "      <td>NaN</td>\n",
       "    </tr>\n",
       "    <tr>\n",
       "      <th>open_rv_12m</th>\n",
       "      <td>0.0</td>\n",
       "      <td>NaN</td>\n",
       "      <td>NaN</td>\n",
       "      <td>NaN</td>\n",
       "      <td>NaN</td>\n",
       "      <td>NaN</td>\n",
       "      <td>NaN</td>\n",
       "      <td>NaN</td>\n",
       "    </tr>\n",
       "    <tr>\n",
       "      <th>open_rv_24m</th>\n",
       "      <td>0.0</td>\n",
       "      <td>NaN</td>\n",
       "      <td>NaN</td>\n",
       "      <td>NaN</td>\n",
       "      <td>NaN</td>\n",
       "      <td>NaN</td>\n",
       "      <td>NaN</td>\n",
       "      <td>NaN</td>\n",
       "    </tr>\n",
       "    <tr>\n",
       "      <th>max_bal_bc</th>\n",
       "      <td>0.0</td>\n",
       "      <td>NaN</td>\n",
       "      <td>NaN</td>\n",
       "      <td>NaN</td>\n",
       "      <td>NaN</td>\n",
       "      <td>NaN</td>\n",
       "      <td>NaN</td>\n",
       "      <td>NaN</td>\n",
       "    </tr>\n",
       "    <tr>\n",
       "      <th>all_util</th>\n",
       "      <td>0.0</td>\n",
       "      <td>NaN</td>\n",
       "      <td>NaN</td>\n",
       "      <td>NaN</td>\n",
       "      <td>NaN</td>\n",
       "      <td>NaN</td>\n",
       "      <td>NaN</td>\n",
       "      <td>NaN</td>\n",
       "    </tr>\n",
       "    <tr>\n",
       "      <th>total_rev_hi_lim</th>\n",
       "      <td>0.0</td>\n",
       "      <td>NaN</td>\n",
       "      <td>NaN</td>\n",
       "      <td>NaN</td>\n",
       "      <td>NaN</td>\n",
       "      <td>NaN</td>\n",
       "      <td>NaN</td>\n",
       "      <td>NaN</td>\n",
       "    </tr>\n",
       "    <tr>\n",
       "      <th>inq_fi</th>\n",
       "      <td>0.0</td>\n",
       "      <td>NaN</td>\n",
       "      <td>NaN</td>\n",
       "      <td>NaN</td>\n",
       "      <td>NaN</td>\n",
       "      <td>NaN</td>\n",
       "      <td>NaN</td>\n",
       "      <td>NaN</td>\n",
       "    </tr>\n",
       "    <tr>\n",
       "      <th>total_cu_tl</th>\n",
       "      <td>0.0</td>\n",
       "      <td>NaN</td>\n",
       "      <td>NaN</td>\n",
       "      <td>NaN</td>\n",
       "      <td>NaN</td>\n",
       "      <td>NaN</td>\n",
       "      <td>NaN</td>\n",
       "      <td>NaN</td>\n",
       "    </tr>\n",
       "    <tr>\n",
       "      <th>inq_last_12m</th>\n",
       "      <td>0.0</td>\n",
       "      <td>NaN</td>\n",
       "      <td>NaN</td>\n",
       "      <td>NaN</td>\n",
       "      <td>NaN</td>\n",
       "      <td>NaN</td>\n",
       "      <td>NaN</td>\n",
       "      <td>NaN</td>\n",
       "    </tr>\n",
       "    <tr>\n",
       "      <th>acc_open_past_24mths</th>\n",
       "      <td>0.0</td>\n",
       "      <td>NaN</td>\n",
       "      <td>NaN</td>\n",
       "      <td>NaN</td>\n",
       "      <td>NaN</td>\n",
       "      <td>NaN</td>\n",
       "      <td>NaN</td>\n",
       "      <td>NaN</td>\n",
       "    </tr>\n",
       "    <tr>\n",
       "      <th>avg_cur_bal</th>\n",
       "      <td>0.0</td>\n",
       "      <td>NaN</td>\n",
       "      <td>NaN</td>\n",
       "      <td>NaN</td>\n",
       "      <td>NaN</td>\n",
       "      <td>NaN</td>\n",
       "      <td>NaN</td>\n",
       "      <td>NaN</td>\n",
       "    </tr>\n",
       "    <tr>\n",
       "      <th>bc_open_to_buy</th>\n",
       "      <td>0.0</td>\n",
       "      <td>NaN</td>\n",
       "      <td>NaN</td>\n",
       "      <td>NaN</td>\n",
       "      <td>NaN</td>\n",
       "      <td>NaN</td>\n",
       "      <td>NaN</td>\n",
       "      <td>NaN</td>\n",
       "    </tr>\n",
       "    <tr>\n",
       "      <th>bc_util</th>\n",
       "      <td>0.0</td>\n",
       "      <td>NaN</td>\n",
       "      <td>NaN</td>\n",
       "      <td>NaN</td>\n",
       "      <td>NaN</td>\n",
       "      <td>NaN</td>\n",
       "      <td>NaN</td>\n",
       "      <td>NaN</td>\n",
       "    </tr>\n",
       "    <tr>\n",
       "      <th>chargeoff_within_12_mths</th>\n",
       "      <td>39661.0</td>\n",
       "      <td>0.000000</td>\n",
       "      <td>0.000000</td>\n",
       "      <td>0.00</td>\n",
       "      <td>0.00</td>\n",
       "      <td>0.000000</td>\n",
       "      <td>0.000000e+00</td>\n",
       "      <td>0.000000e+00</td>\n",
       "    </tr>\n",
       "    <tr>\n",
       "      <th>delinq_amnt</th>\n",
       "      <td>39717.0</td>\n",
       "      <td>0.000000</td>\n",
       "      <td>0.000000</td>\n",
       "      <td>0.00</td>\n",
       "      <td>0.00</td>\n",
       "      <td>0.000000</td>\n",
       "      <td>0.000000e+00</td>\n",
       "      <td>0.000000e+00</td>\n",
       "    </tr>\n",
       "    <tr>\n",
       "      <th>mo_sin_old_il_acct</th>\n",
       "      <td>0.0</td>\n",
       "      <td>NaN</td>\n",
       "      <td>NaN</td>\n",
       "      <td>NaN</td>\n",
       "      <td>NaN</td>\n",
       "      <td>NaN</td>\n",
       "      <td>NaN</td>\n",
       "      <td>NaN</td>\n",
       "    </tr>\n",
       "    <tr>\n",
       "      <th>mo_sin_old_rev_tl_op</th>\n",
       "      <td>0.0</td>\n",
       "      <td>NaN</td>\n",
       "      <td>NaN</td>\n",
       "      <td>NaN</td>\n",
       "      <td>NaN</td>\n",
       "      <td>NaN</td>\n",
       "      <td>NaN</td>\n",
       "      <td>NaN</td>\n",
       "    </tr>\n",
       "    <tr>\n",
       "      <th>mo_sin_rcnt_rev_tl_op</th>\n",
       "      <td>0.0</td>\n",
       "      <td>NaN</td>\n",
       "      <td>NaN</td>\n",
       "      <td>NaN</td>\n",
       "      <td>NaN</td>\n",
       "      <td>NaN</td>\n",
       "      <td>NaN</td>\n",
       "      <td>NaN</td>\n",
       "    </tr>\n",
       "    <tr>\n",
       "      <th>mo_sin_rcnt_tl</th>\n",
       "      <td>0.0</td>\n",
       "      <td>NaN</td>\n",
       "      <td>NaN</td>\n",
       "      <td>NaN</td>\n",
       "      <td>NaN</td>\n",
       "      <td>NaN</td>\n",
       "      <td>NaN</td>\n",
       "      <td>NaN</td>\n",
       "    </tr>\n",
       "    <tr>\n",
       "      <th>mort_acc</th>\n",
       "      <td>0.0</td>\n",
       "      <td>NaN</td>\n",
       "      <td>NaN</td>\n",
       "      <td>NaN</td>\n",
       "      <td>NaN</td>\n",
       "      <td>NaN</td>\n",
       "      <td>NaN</td>\n",
       "      <td>NaN</td>\n",
       "    </tr>\n",
       "    <tr>\n",
       "      <th>mths_since_recent_bc</th>\n",
       "      <td>0.0</td>\n",
       "      <td>NaN</td>\n",
       "      <td>NaN</td>\n",
       "      <td>NaN</td>\n",
       "      <td>NaN</td>\n",
       "      <td>NaN</td>\n",
       "      <td>NaN</td>\n",
       "      <td>NaN</td>\n",
       "    </tr>\n",
       "    <tr>\n",
       "      <th>mths_since_recent_bc_dlq</th>\n",
       "      <td>0.0</td>\n",
       "      <td>NaN</td>\n",
       "      <td>NaN</td>\n",
       "      <td>NaN</td>\n",
       "      <td>NaN</td>\n",
       "      <td>NaN</td>\n",
       "      <td>NaN</td>\n",
       "      <td>NaN</td>\n",
       "    </tr>\n",
       "    <tr>\n",
       "      <th>mths_since_recent_inq</th>\n",
       "      <td>0.0</td>\n",
       "      <td>NaN</td>\n",
       "      <td>NaN</td>\n",
       "      <td>NaN</td>\n",
       "      <td>NaN</td>\n",
       "      <td>NaN</td>\n",
       "      <td>NaN</td>\n",
       "      <td>NaN</td>\n",
       "    </tr>\n",
       "    <tr>\n",
       "      <th>mths_since_recent_revol_delinq</th>\n",
       "      <td>0.0</td>\n",
       "      <td>NaN</td>\n",
       "      <td>NaN</td>\n",
       "      <td>NaN</td>\n",
       "      <td>NaN</td>\n",
       "      <td>NaN</td>\n",
       "      <td>NaN</td>\n",
       "      <td>NaN</td>\n",
       "    </tr>\n",
       "    <tr>\n",
       "      <th>num_accts_ever_120_pd</th>\n",
       "      <td>0.0</td>\n",
       "      <td>NaN</td>\n",
       "      <td>NaN</td>\n",
       "      <td>NaN</td>\n",
       "      <td>NaN</td>\n",
       "      <td>NaN</td>\n",
       "      <td>NaN</td>\n",
       "      <td>NaN</td>\n",
       "    </tr>\n",
       "    <tr>\n",
       "      <th>num_actv_bc_tl</th>\n",
       "      <td>0.0</td>\n",
       "      <td>NaN</td>\n",
       "      <td>NaN</td>\n",
       "      <td>NaN</td>\n",
       "      <td>NaN</td>\n",
       "      <td>NaN</td>\n",
       "      <td>NaN</td>\n",
       "      <td>NaN</td>\n",
       "    </tr>\n",
       "    <tr>\n",
       "      <th>num_actv_rev_tl</th>\n",
       "      <td>0.0</td>\n",
       "      <td>NaN</td>\n",
       "      <td>NaN</td>\n",
       "      <td>NaN</td>\n",
       "      <td>NaN</td>\n",
       "      <td>NaN</td>\n",
       "      <td>NaN</td>\n",
       "      <td>NaN</td>\n",
       "    </tr>\n",
       "    <tr>\n",
       "      <th>num_bc_sats</th>\n",
       "      <td>0.0</td>\n",
       "      <td>NaN</td>\n",
       "      <td>NaN</td>\n",
       "      <td>NaN</td>\n",
       "      <td>NaN</td>\n",
       "      <td>NaN</td>\n",
       "      <td>NaN</td>\n",
       "      <td>NaN</td>\n",
       "    </tr>\n",
       "    <tr>\n",
       "      <th>num_bc_tl</th>\n",
       "      <td>0.0</td>\n",
       "      <td>NaN</td>\n",
       "      <td>NaN</td>\n",
       "      <td>NaN</td>\n",
       "      <td>NaN</td>\n",
       "      <td>NaN</td>\n",
       "      <td>NaN</td>\n",
       "      <td>NaN</td>\n",
       "    </tr>\n",
       "    <tr>\n",
       "      <th>num_il_tl</th>\n",
       "      <td>0.0</td>\n",
       "      <td>NaN</td>\n",
       "      <td>NaN</td>\n",
       "      <td>NaN</td>\n",
       "      <td>NaN</td>\n",
       "      <td>NaN</td>\n",
       "      <td>NaN</td>\n",
       "      <td>NaN</td>\n",
       "    </tr>\n",
       "    <tr>\n",
       "      <th>num_op_rev_tl</th>\n",
       "      <td>0.0</td>\n",
       "      <td>NaN</td>\n",
       "      <td>NaN</td>\n",
       "      <td>NaN</td>\n",
       "      <td>NaN</td>\n",
       "      <td>NaN</td>\n",
       "      <td>NaN</td>\n",
       "      <td>NaN</td>\n",
       "    </tr>\n",
       "    <tr>\n",
       "      <th>num_rev_accts</th>\n",
       "      <td>0.0</td>\n",
       "      <td>NaN</td>\n",
       "      <td>NaN</td>\n",
       "      <td>NaN</td>\n",
       "      <td>NaN</td>\n",
       "      <td>NaN</td>\n",
       "      <td>NaN</td>\n",
       "      <td>NaN</td>\n",
       "    </tr>\n",
       "    <tr>\n",
       "      <th>num_rev_tl_bal_gt_0</th>\n",
       "      <td>0.0</td>\n",
       "      <td>NaN</td>\n",
       "      <td>NaN</td>\n",
       "      <td>NaN</td>\n",
       "      <td>NaN</td>\n",
       "      <td>NaN</td>\n",
       "      <td>NaN</td>\n",
       "      <td>NaN</td>\n",
       "    </tr>\n",
       "    <tr>\n",
       "      <th>num_sats</th>\n",
       "      <td>0.0</td>\n",
       "      <td>NaN</td>\n",
       "      <td>NaN</td>\n",
       "      <td>NaN</td>\n",
       "      <td>NaN</td>\n",
       "      <td>NaN</td>\n",
       "      <td>NaN</td>\n",
       "      <td>NaN</td>\n",
       "    </tr>\n",
       "    <tr>\n",
       "      <th>num_tl_120dpd_2m</th>\n",
       "      <td>0.0</td>\n",
       "      <td>NaN</td>\n",
       "      <td>NaN</td>\n",
       "      <td>NaN</td>\n",
       "      <td>NaN</td>\n",
       "      <td>NaN</td>\n",
       "      <td>NaN</td>\n",
       "      <td>NaN</td>\n",
       "    </tr>\n",
       "    <tr>\n",
       "      <th>num_tl_30dpd</th>\n",
       "      <td>0.0</td>\n",
       "      <td>NaN</td>\n",
       "      <td>NaN</td>\n",
       "      <td>NaN</td>\n",
       "      <td>NaN</td>\n",
       "      <td>NaN</td>\n",
       "      <td>NaN</td>\n",
       "      <td>NaN</td>\n",
       "    </tr>\n",
       "    <tr>\n",
       "      <th>num_tl_90g_dpd_24m</th>\n",
       "      <td>0.0</td>\n",
       "      <td>NaN</td>\n",
       "      <td>NaN</td>\n",
       "      <td>NaN</td>\n",
       "      <td>NaN</td>\n",
       "      <td>NaN</td>\n",
       "      <td>NaN</td>\n",
       "      <td>NaN</td>\n",
       "    </tr>\n",
       "    <tr>\n",
       "      <th>num_tl_op_past_12m</th>\n",
       "      <td>0.0</td>\n",
       "      <td>NaN</td>\n",
       "      <td>NaN</td>\n",
       "      <td>NaN</td>\n",
       "      <td>NaN</td>\n",
       "      <td>NaN</td>\n",
       "      <td>NaN</td>\n",
       "      <td>NaN</td>\n",
       "    </tr>\n",
       "    <tr>\n",
       "      <th>pct_tl_nvr_dlq</th>\n",
       "      <td>0.0</td>\n",
       "      <td>NaN</td>\n",
       "      <td>NaN</td>\n",
       "      <td>NaN</td>\n",
       "      <td>NaN</td>\n",
       "      <td>NaN</td>\n",
       "      <td>NaN</td>\n",
       "      <td>NaN</td>\n",
       "    </tr>\n",
       "    <tr>\n",
       "      <th>percent_bc_gt_75</th>\n",
       "      <td>0.0</td>\n",
       "      <td>NaN</td>\n",
       "      <td>NaN</td>\n",
       "      <td>NaN</td>\n",
       "      <td>NaN</td>\n",
       "      <td>NaN</td>\n",
       "      <td>NaN</td>\n",
       "      <td>NaN</td>\n",
       "    </tr>\n",
       "    <tr>\n",
       "      <th>pub_rec_bankruptcies</th>\n",
       "      <td>39020.0</td>\n",
       "      <td>0.043260</td>\n",
       "      <td>0.204324</td>\n",
       "      <td>0.00</td>\n",
       "      <td>0.00</td>\n",
       "      <td>0.000000</td>\n",
       "      <td>0.000000e+00</td>\n",
       "      <td>2.000000e+00</td>\n",
       "    </tr>\n",
       "    <tr>\n",
       "      <th>tax_liens</th>\n",
       "      <td>39678.0</td>\n",
       "      <td>0.000000</td>\n",
       "      <td>0.000000</td>\n",
       "      <td>0.00</td>\n",
       "      <td>0.00</td>\n",
       "      <td>0.000000</td>\n",
       "      <td>0.000000e+00</td>\n",
       "      <td>0.000000e+00</td>\n",
       "    </tr>\n",
       "    <tr>\n",
       "      <th>tot_hi_cred_lim</th>\n",
       "      <td>0.0</td>\n",
       "      <td>NaN</td>\n",
       "      <td>NaN</td>\n",
       "      <td>NaN</td>\n",
       "      <td>NaN</td>\n",
       "      <td>NaN</td>\n",
       "      <td>NaN</td>\n",
       "      <td>NaN</td>\n",
       "    </tr>\n",
       "    <tr>\n",
       "      <th>total_bal_ex_mort</th>\n",
       "      <td>0.0</td>\n",
       "      <td>NaN</td>\n",
       "      <td>NaN</td>\n",
       "      <td>NaN</td>\n",
       "      <td>NaN</td>\n",
       "      <td>NaN</td>\n",
       "      <td>NaN</td>\n",
       "      <td>NaN</td>\n",
       "    </tr>\n",
       "    <tr>\n",
       "      <th>total_bc_limit</th>\n",
       "      <td>0.0</td>\n",
       "      <td>NaN</td>\n",
       "      <td>NaN</td>\n",
       "      <td>NaN</td>\n",
       "      <td>NaN</td>\n",
       "      <td>NaN</td>\n",
       "      <td>NaN</td>\n",
       "      <td>NaN</td>\n",
       "    </tr>\n",
       "    <tr>\n",
       "      <th>total_il_high_credit_limit</th>\n",
       "      <td>0.0</td>\n",
       "      <td>NaN</td>\n",
       "      <td>NaN</td>\n",
       "      <td>NaN</td>\n",
       "      <td>NaN</td>\n",
       "      <td>NaN</td>\n",
       "      <td>NaN</td>\n",
       "      <td>NaN</td>\n",
       "    </tr>\n",
       "  </tbody>\n",
       "</table>\n",
       "</div>"
      ],
      "text/plain": [
       "                                  count           mean            std  \\\n",
       "id                              39717.0  683131.913060  210694.132915   \n",
       "member_id                       39717.0  850463.559408  265678.307421   \n",
       "loan_amnt                       39717.0   11219.443815    7456.670694   \n",
       "funded_amnt                     39717.0   10947.713196    7187.238670   \n",
       "funded_amnt_inv                 39717.0   10397.448868    7128.450439   \n",
       "installment                     39717.0     324.561922     208.874874   \n",
       "annual_inc                      39717.0   68968.926377   63793.765790   \n",
       "dti                             39717.0      13.315130       6.678594   \n",
       "delinq_2yrs                     39717.0       0.146512       0.491812   \n",
       "inq_last_6mths                  39717.0       0.869200       1.070219   \n",
       "mths_since_last_delinq          14035.0      35.900962      22.020060   \n",
       "mths_since_last_record           2786.0      69.698134      43.822529   \n",
       "open_acc                        39717.0       9.294408       4.400282   \n",
       "pub_rec                         39717.0       0.055065       0.237200   \n",
       "revol_bal                       39717.0   13382.528086   15885.016641   \n",
       "total_acc                       39717.0      22.088828      11.401709   \n",
       "out_prncp                       39717.0      51.227887     375.172839   \n",
       "out_prncp_inv                   39717.0      50.989768     373.824457   \n",
       "total_pymnt                     39717.0   12153.596544    9042.040766   \n",
       "total_pymnt_inv                 39717.0   11567.149118    8942.672613   \n",
       "total_rec_prncp                 39717.0    9793.348813    7065.522127   \n",
       "total_rec_int                   39717.0    2263.663172    2608.111964   \n",
       "total_rec_late_fee              39717.0       1.363015       7.289979   \n",
       "recoveries                      39717.0      95.221624     688.744771   \n",
       "collection_recovery_fee         39717.0      12.406112     148.671593   \n",
       "last_pymnt_amnt                 39717.0    2678.826162    4447.136012   \n",
       "collections_12_mths_ex_med      39661.0       0.000000       0.000000   \n",
       "mths_since_last_major_derog         0.0            NaN            NaN   \n",
       "policy_code                     39717.0       1.000000       0.000000   \n",
       "annual_inc_joint                    0.0            NaN            NaN   \n",
       "dti_joint                           0.0            NaN            NaN   \n",
       "verification_status_joint           0.0            NaN            NaN   \n",
       "acc_now_delinq                  39717.0       0.000000       0.000000   \n",
       "tot_coll_amt                        0.0            NaN            NaN   \n",
       "tot_cur_bal                         0.0            NaN            NaN   \n",
       "open_acc_6m                         0.0            NaN            NaN   \n",
       "open_il_6m                          0.0            NaN            NaN   \n",
       "open_il_12m                         0.0            NaN            NaN   \n",
       "open_il_24m                         0.0            NaN            NaN   \n",
       "mths_since_rcnt_il                  0.0            NaN            NaN   \n",
       "total_bal_il                        0.0            NaN            NaN   \n",
       "il_util                             0.0            NaN            NaN   \n",
       "open_rv_12m                         0.0            NaN            NaN   \n",
       "open_rv_24m                         0.0            NaN            NaN   \n",
       "max_bal_bc                          0.0            NaN            NaN   \n",
       "all_util                            0.0            NaN            NaN   \n",
       "total_rev_hi_lim                    0.0            NaN            NaN   \n",
       "inq_fi                              0.0            NaN            NaN   \n",
       "total_cu_tl                         0.0            NaN            NaN   \n",
       "inq_last_12m                        0.0            NaN            NaN   \n",
       "acc_open_past_24mths                0.0            NaN            NaN   \n",
       "avg_cur_bal                         0.0            NaN            NaN   \n",
       "bc_open_to_buy                      0.0            NaN            NaN   \n",
       "bc_util                             0.0            NaN            NaN   \n",
       "chargeoff_within_12_mths        39661.0       0.000000       0.000000   \n",
       "delinq_amnt                     39717.0       0.000000       0.000000   \n",
       "mo_sin_old_il_acct                  0.0            NaN            NaN   \n",
       "mo_sin_old_rev_tl_op                0.0            NaN            NaN   \n",
       "mo_sin_rcnt_rev_tl_op               0.0            NaN            NaN   \n",
       "mo_sin_rcnt_tl                      0.0            NaN            NaN   \n",
       "mort_acc                            0.0            NaN            NaN   \n",
       "mths_since_recent_bc                0.0            NaN            NaN   \n",
       "mths_since_recent_bc_dlq            0.0            NaN            NaN   \n",
       "mths_since_recent_inq               0.0            NaN            NaN   \n",
       "mths_since_recent_revol_delinq      0.0            NaN            NaN   \n",
       "num_accts_ever_120_pd               0.0            NaN            NaN   \n",
       "num_actv_bc_tl                      0.0            NaN            NaN   \n",
       "num_actv_rev_tl                     0.0            NaN            NaN   \n",
       "num_bc_sats                         0.0            NaN            NaN   \n",
       "num_bc_tl                           0.0            NaN            NaN   \n",
       "num_il_tl                           0.0            NaN            NaN   \n",
       "num_op_rev_tl                       0.0            NaN            NaN   \n",
       "num_rev_accts                       0.0            NaN            NaN   \n",
       "num_rev_tl_bal_gt_0                 0.0            NaN            NaN   \n",
       "num_sats                            0.0            NaN            NaN   \n",
       "num_tl_120dpd_2m                    0.0            NaN            NaN   \n",
       "num_tl_30dpd                        0.0            NaN            NaN   \n",
       "num_tl_90g_dpd_24m                  0.0            NaN            NaN   \n",
       "num_tl_op_past_12m                  0.0            NaN            NaN   \n",
       "pct_tl_nvr_dlq                      0.0            NaN            NaN   \n",
       "percent_bc_gt_75                    0.0            NaN            NaN   \n",
       "pub_rec_bankruptcies            39020.0       0.043260       0.204324   \n",
       "tax_liens                       39678.0       0.000000       0.000000   \n",
       "tot_hi_cred_lim                     0.0            NaN            NaN   \n",
       "total_bal_ex_mort                   0.0            NaN            NaN   \n",
       "total_bc_limit                      0.0            NaN            NaN   \n",
       "total_il_high_credit_limit          0.0            NaN            NaN   \n",
       "\n",
       "                                     min        25%            50%  \\\n",
       "id                              54734.00  516221.00  665665.000000   \n",
       "member_id                       70699.00  666780.00  850812.000000   \n",
       "loan_amnt                         500.00    5500.00   10000.000000   \n",
       "funded_amnt                       500.00    5400.00    9600.000000   \n",
       "funded_amnt_inv                     0.00    5000.00    8975.000000   \n",
       "installment                        15.69     167.02     280.220000   \n",
       "annual_inc                       4000.00   40404.00   59000.000000   \n",
       "dti                                 0.00       8.17      13.400000   \n",
       "delinq_2yrs                         0.00       0.00       0.000000   \n",
       "inq_last_6mths                      0.00       0.00       1.000000   \n",
       "mths_since_last_delinq              0.00      18.00      34.000000   \n",
       "mths_since_last_record              0.00      22.00      90.000000   \n",
       "open_acc                            2.00       6.00       9.000000   \n",
       "pub_rec                             0.00       0.00       0.000000   \n",
       "revol_bal                           0.00    3703.00    8850.000000   \n",
       "total_acc                           2.00      13.00      20.000000   \n",
       "out_prncp                           0.00       0.00       0.000000   \n",
       "out_prncp_inv                       0.00       0.00       0.000000   \n",
       "total_pymnt                         0.00    5576.93    9899.640319   \n",
       "total_pymnt_inv                     0.00    5112.31    9287.150000   \n",
       "total_rec_prncp                     0.00    4600.00    8000.000000   \n",
       "total_rec_int                       0.00     662.18    1348.910000   \n",
       "total_rec_late_fee                  0.00       0.00       0.000000   \n",
       "recoveries                          0.00       0.00       0.000000   \n",
       "collection_recovery_fee             0.00       0.00       0.000000   \n",
       "last_pymnt_amnt                     0.00     218.68     546.140000   \n",
       "collections_12_mths_ex_med          0.00       0.00       0.000000   \n",
       "mths_since_last_major_derog          NaN        NaN            NaN   \n",
       "policy_code                         1.00       1.00       1.000000   \n",
       "annual_inc_joint                     NaN        NaN            NaN   \n",
       "dti_joint                            NaN        NaN            NaN   \n",
       "verification_status_joint            NaN        NaN            NaN   \n",
       "acc_now_delinq                      0.00       0.00       0.000000   \n",
       "tot_coll_amt                         NaN        NaN            NaN   \n",
       "tot_cur_bal                          NaN        NaN            NaN   \n",
       "open_acc_6m                          NaN        NaN            NaN   \n",
       "open_il_6m                           NaN        NaN            NaN   \n",
       "open_il_12m                          NaN        NaN            NaN   \n",
       "open_il_24m                          NaN        NaN            NaN   \n",
       "mths_since_rcnt_il                   NaN        NaN            NaN   \n",
       "total_bal_il                         NaN        NaN            NaN   \n",
       "il_util                              NaN        NaN            NaN   \n",
       "open_rv_12m                          NaN        NaN            NaN   \n",
       "open_rv_24m                          NaN        NaN            NaN   \n",
       "max_bal_bc                           NaN        NaN            NaN   \n",
       "all_util                             NaN        NaN            NaN   \n",
       "total_rev_hi_lim                     NaN        NaN            NaN   \n",
       "inq_fi                               NaN        NaN            NaN   \n",
       "total_cu_tl                          NaN        NaN            NaN   \n",
       "inq_last_12m                         NaN        NaN            NaN   \n",
       "acc_open_past_24mths                 NaN        NaN            NaN   \n",
       "avg_cur_bal                          NaN        NaN            NaN   \n",
       "bc_open_to_buy                       NaN        NaN            NaN   \n",
       "bc_util                              NaN        NaN            NaN   \n",
       "chargeoff_within_12_mths            0.00       0.00       0.000000   \n",
       "delinq_amnt                         0.00       0.00       0.000000   \n",
       "mo_sin_old_il_acct                   NaN        NaN            NaN   \n",
       "mo_sin_old_rev_tl_op                 NaN        NaN            NaN   \n",
       "mo_sin_rcnt_rev_tl_op                NaN        NaN            NaN   \n",
       "mo_sin_rcnt_tl                       NaN        NaN            NaN   \n",
       "mort_acc                             NaN        NaN            NaN   \n",
       "mths_since_recent_bc                 NaN        NaN            NaN   \n",
       "mths_since_recent_bc_dlq             NaN        NaN            NaN   \n",
       "mths_since_recent_inq                NaN        NaN            NaN   \n",
       "mths_since_recent_revol_delinq       NaN        NaN            NaN   \n",
       "num_accts_ever_120_pd                NaN        NaN            NaN   \n",
       "num_actv_bc_tl                       NaN        NaN            NaN   \n",
       "num_actv_rev_tl                      NaN        NaN            NaN   \n",
       "num_bc_sats                          NaN        NaN            NaN   \n",
       "num_bc_tl                            NaN        NaN            NaN   \n",
       "num_il_tl                            NaN        NaN            NaN   \n",
       "num_op_rev_tl                        NaN        NaN            NaN   \n",
       "num_rev_accts                        NaN        NaN            NaN   \n",
       "num_rev_tl_bal_gt_0                  NaN        NaN            NaN   \n",
       "num_sats                             NaN        NaN            NaN   \n",
       "num_tl_120dpd_2m                     NaN        NaN            NaN   \n",
       "num_tl_30dpd                         NaN        NaN            NaN   \n",
       "num_tl_90g_dpd_24m                   NaN        NaN            NaN   \n",
       "num_tl_op_past_12m                   NaN        NaN            NaN   \n",
       "pct_tl_nvr_dlq                       NaN        NaN            NaN   \n",
       "percent_bc_gt_75                     NaN        NaN            NaN   \n",
       "pub_rec_bankruptcies                0.00       0.00       0.000000   \n",
       "tax_liens                           0.00       0.00       0.000000   \n",
       "tot_hi_cred_lim                      NaN        NaN            NaN   \n",
       "total_bal_ex_mort                    NaN        NaN            NaN   \n",
       "total_bc_limit                       NaN        NaN            NaN   \n",
       "total_il_high_credit_limit           NaN        NaN            NaN   \n",
       "\n",
       "                                         75%           max  \n",
       "id                              8.377550e+05  1.077501e+06  \n",
       "member_id                       1.047339e+06  1.314167e+06  \n",
       "loan_amnt                       1.500000e+04  3.500000e+04  \n",
       "funded_amnt                     1.500000e+04  3.500000e+04  \n",
       "funded_amnt_inv                 1.440000e+04  3.500000e+04  \n",
       "installment                     4.307800e+02  1.305190e+03  \n",
       "annual_inc                      8.230000e+04  6.000000e+06  \n",
       "dti                             1.860000e+01  2.999000e+01  \n",
       "delinq_2yrs                     0.000000e+00  1.100000e+01  \n",
       "inq_last_6mths                  1.000000e+00  8.000000e+00  \n",
       "mths_since_last_delinq          5.200000e+01  1.200000e+02  \n",
       "mths_since_last_record          1.040000e+02  1.290000e+02  \n",
       "open_acc                        1.200000e+01  4.400000e+01  \n",
       "pub_rec                         0.000000e+00  4.000000e+00  \n",
       "revol_bal                       1.705800e+04  1.495880e+05  \n",
       "total_acc                       2.900000e+01  9.000000e+01  \n",
       "out_prncp                       0.000000e+00  6.311470e+03  \n",
       "out_prncp_inv                   0.000000e+00  6.307370e+03  \n",
       "total_pymnt                     1.653443e+04  5.856368e+04  \n",
       "total_pymnt_inv                 1.579881e+04  5.856368e+04  \n",
       "total_rec_prncp                 1.365326e+04  3.500002e+04  \n",
       "total_rec_int                   2.833400e+03  2.356368e+04  \n",
       "total_rec_late_fee              0.000000e+00  1.802000e+02  \n",
       "recoveries                      0.000000e+00  2.962335e+04  \n",
       "collection_recovery_fee         0.000000e+00  7.002190e+03  \n",
       "last_pymnt_amnt                 3.293160e+03  3.611520e+04  \n",
       "collections_12_mths_ex_med      0.000000e+00  0.000000e+00  \n",
       "mths_since_last_major_derog              NaN           NaN  \n",
       "policy_code                     1.000000e+00  1.000000e+00  \n",
       "annual_inc_joint                         NaN           NaN  \n",
       "dti_joint                                NaN           NaN  \n",
       "verification_status_joint                NaN           NaN  \n",
       "acc_now_delinq                  0.000000e+00  0.000000e+00  \n",
       "tot_coll_amt                             NaN           NaN  \n",
       "tot_cur_bal                              NaN           NaN  \n",
       "open_acc_6m                              NaN           NaN  \n",
       "open_il_6m                               NaN           NaN  \n",
       "open_il_12m                              NaN           NaN  \n",
       "open_il_24m                              NaN           NaN  \n",
       "mths_since_rcnt_il                       NaN           NaN  \n",
       "total_bal_il                             NaN           NaN  \n",
       "il_util                                  NaN           NaN  \n",
       "open_rv_12m                              NaN           NaN  \n",
       "open_rv_24m                              NaN           NaN  \n",
       "max_bal_bc                               NaN           NaN  \n",
       "all_util                                 NaN           NaN  \n",
       "total_rev_hi_lim                         NaN           NaN  \n",
       "inq_fi                                   NaN           NaN  \n",
       "total_cu_tl                              NaN           NaN  \n",
       "inq_last_12m                             NaN           NaN  \n",
       "acc_open_past_24mths                     NaN           NaN  \n",
       "avg_cur_bal                              NaN           NaN  \n",
       "bc_open_to_buy                           NaN           NaN  \n",
       "bc_util                                  NaN           NaN  \n",
       "chargeoff_within_12_mths        0.000000e+00  0.000000e+00  \n",
       "delinq_amnt                     0.000000e+00  0.000000e+00  \n",
       "mo_sin_old_il_acct                       NaN           NaN  \n",
       "mo_sin_old_rev_tl_op                     NaN           NaN  \n",
       "mo_sin_rcnt_rev_tl_op                    NaN           NaN  \n",
       "mo_sin_rcnt_tl                           NaN           NaN  \n",
       "mort_acc                                 NaN           NaN  \n",
       "mths_since_recent_bc                     NaN           NaN  \n",
       "mths_since_recent_bc_dlq                 NaN           NaN  \n",
       "mths_since_recent_inq                    NaN           NaN  \n",
       "mths_since_recent_revol_delinq           NaN           NaN  \n",
       "num_accts_ever_120_pd                    NaN           NaN  \n",
       "num_actv_bc_tl                           NaN           NaN  \n",
       "num_actv_rev_tl                          NaN           NaN  \n",
       "num_bc_sats                              NaN           NaN  \n",
       "num_bc_tl                                NaN           NaN  \n",
       "num_il_tl                                NaN           NaN  \n",
       "num_op_rev_tl                            NaN           NaN  \n",
       "num_rev_accts                            NaN           NaN  \n",
       "num_rev_tl_bal_gt_0                      NaN           NaN  \n",
       "num_sats                                 NaN           NaN  \n",
       "num_tl_120dpd_2m                         NaN           NaN  \n",
       "num_tl_30dpd                             NaN           NaN  \n",
       "num_tl_90g_dpd_24m                       NaN           NaN  \n",
       "num_tl_op_past_12m                       NaN           NaN  \n",
       "pct_tl_nvr_dlq                           NaN           NaN  \n",
       "percent_bc_gt_75                         NaN           NaN  \n",
       "pub_rec_bankruptcies            0.000000e+00  2.000000e+00  \n",
       "tax_liens                       0.000000e+00  0.000000e+00  \n",
       "tot_hi_cred_lim                          NaN           NaN  \n",
       "total_bal_ex_mort                        NaN           NaN  \n",
       "total_bc_limit                           NaN           NaN  \n",
       "total_il_high_credit_limit               NaN           NaN  "
      ]
     },
     "execution_count": 5,
     "metadata": {},
     "output_type": "execute_result"
    }
   ],
   "source": [
    "loan.describe().transpose()"
   ]
  },
  {
   "cell_type": "code",
   "execution_count": 6,
   "metadata": {
    "scrolled": true
   },
   "outputs": [
    {
     "data": {
      "text/html": [
       "<div>\n",
       "<style scoped>\n",
       "    .dataframe tbody tr th:only-of-type {\n",
       "        vertical-align: middle;\n",
       "    }\n",
       "\n",
       "    .dataframe tbody tr th {\n",
       "        vertical-align: top;\n",
       "    }\n",
       "\n",
       "    .dataframe thead th {\n",
       "        text-align: right;\n",
       "    }\n",
       "</style>\n",
       "<table border=\"1\" class=\"dataframe\">\n",
       "  <thead>\n",
       "    <tr style=\"text-align: right;\">\n",
       "      <th></th>\n",
       "      <th>id</th>\n",
       "      <th>member_id</th>\n",
       "      <th>loan_amnt</th>\n",
       "      <th>funded_amnt</th>\n",
       "      <th>funded_amnt_inv</th>\n",
       "      <th>term</th>\n",
       "      <th>int_rate</th>\n",
       "      <th>installment</th>\n",
       "      <th>grade</th>\n",
       "      <th>sub_grade</th>\n",
       "      <th>...</th>\n",
       "      <th>num_tl_90g_dpd_24m</th>\n",
       "      <th>num_tl_op_past_12m</th>\n",
       "      <th>pct_tl_nvr_dlq</th>\n",
       "      <th>percent_bc_gt_75</th>\n",
       "      <th>pub_rec_bankruptcies</th>\n",
       "      <th>tax_liens</th>\n",
       "      <th>tot_hi_cred_lim</th>\n",
       "      <th>total_bal_ex_mort</th>\n",
       "      <th>total_bc_limit</th>\n",
       "      <th>total_il_high_credit_limit</th>\n",
       "    </tr>\n",
       "  </thead>\n",
       "  <tbody>\n",
       "    <tr>\n",
       "      <th>0</th>\n",
       "      <td>1077501</td>\n",
       "      <td>1296599</td>\n",
       "      <td>5000</td>\n",
       "      <td>5000</td>\n",
       "      <td>4975.0</td>\n",
       "      <td>36 months</td>\n",
       "      <td>10.65%</td>\n",
       "      <td>162.87</td>\n",
       "      <td>B</td>\n",
       "      <td>B2</td>\n",
       "      <td>...</td>\n",
       "      <td>NaN</td>\n",
       "      <td>NaN</td>\n",
       "      <td>NaN</td>\n",
       "      <td>NaN</td>\n",
       "      <td>0.0</td>\n",
       "      <td>0.0</td>\n",
       "      <td>NaN</td>\n",
       "      <td>NaN</td>\n",
       "      <td>NaN</td>\n",
       "      <td>NaN</td>\n",
       "    </tr>\n",
       "    <tr>\n",
       "      <th>1</th>\n",
       "      <td>1077430</td>\n",
       "      <td>1314167</td>\n",
       "      <td>2500</td>\n",
       "      <td>2500</td>\n",
       "      <td>2500.0</td>\n",
       "      <td>60 months</td>\n",
       "      <td>15.27%</td>\n",
       "      <td>59.83</td>\n",
       "      <td>C</td>\n",
       "      <td>C4</td>\n",
       "      <td>...</td>\n",
       "      <td>NaN</td>\n",
       "      <td>NaN</td>\n",
       "      <td>NaN</td>\n",
       "      <td>NaN</td>\n",
       "      <td>0.0</td>\n",
       "      <td>0.0</td>\n",
       "      <td>NaN</td>\n",
       "      <td>NaN</td>\n",
       "      <td>NaN</td>\n",
       "      <td>NaN</td>\n",
       "    </tr>\n",
       "    <tr>\n",
       "      <th>2</th>\n",
       "      <td>1077175</td>\n",
       "      <td>1313524</td>\n",
       "      <td>2400</td>\n",
       "      <td>2400</td>\n",
       "      <td>2400.0</td>\n",
       "      <td>36 months</td>\n",
       "      <td>15.96%</td>\n",
       "      <td>84.33</td>\n",
       "      <td>C</td>\n",
       "      <td>C5</td>\n",
       "      <td>...</td>\n",
       "      <td>NaN</td>\n",
       "      <td>NaN</td>\n",
       "      <td>NaN</td>\n",
       "      <td>NaN</td>\n",
       "      <td>0.0</td>\n",
       "      <td>0.0</td>\n",
       "      <td>NaN</td>\n",
       "      <td>NaN</td>\n",
       "      <td>NaN</td>\n",
       "      <td>NaN</td>\n",
       "    </tr>\n",
       "    <tr>\n",
       "      <th>3</th>\n",
       "      <td>1076863</td>\n",
       "      <td>1277178</td>\n",
       "      <td>10000</td>\n",
       "      <td>10000</td>\n",
       "      <td>10000.0</td>\n",
       "      <td>36 months</td>\n",
       "      <td>13.49%</td>\n",
       "      <td>339.31</td>\n",
       "      <td>C</td>\n",
       "      <td>C1</td>\n",
       "      <td>...</td>\n",
       "      <td>NaN</td>\n",
       "      <td>NaN</td>\n",
       "      <td>NaN</td>\n",
       "      <td>NaN</td>\n",
       "      <td>0.0</td>\n",
       "      <td>0.0</td>\n",
       "      <td>NaN</td>\n",
       "      <td>NaN</td>\n",
       "      <td>NaN</td>\n",
       "      <td>NaN</td>\n",
       "    </tr>\n",
       "    <tr>\n",
       "      <th>4</th>\n",
       "      <td>1075358</td>\n",
       "      <td>1311748</td>\n",
       "      <td>3000</td>\n",
       "      <td>3000</td>\n",
       "      <td>3000.0</td>\n",
       "      <td>60 months</td>\n",
       "      <td>12.69%</td>\n",
       "      <td>67.79</td>\n",
       "      <td>B</td>\n",
       "      <td>B5</td>\n",
       "      <td>...</td>\n",
       "      <td>NaN</td>\n",
       "      <td>NaN</td>\n",
       "      <td>NaN</td>\n",
       "      <td>NaN</td>\n",
       "      <td>0.0</td>\n",
       "      <td>0.0</td>\n",
       "      <td>NaN</td>\n",
       "      <td>NaN</td>\n",
       "      <td>NaN</td>\n",
       "      <td>NaN</td>\n",
       "    </tr>\n",
       "  </tbody>\n",
       "</table>\n",
       "<p>5 rows × 111 columns</p>\n",
       "</div>"
      ],
      "text/plain": [
       "        id  member_id  loan_amnt  funded_amnt  funded_amnt_inv        term  \\\n",
       "0  1077501    1296599       5000         5000           4975.0   36 months   \n",
       "1  1077430    1314167       2500         2500           2500.0   60 months   \n",
       "2  1077175    1313524       2400         2400           2400.0   36 months   \n",
       "3  1076863    1277178      10000        10000          10000.0   36 months   \n",
       "4  1075358    1311748       3000         3000           3000.0   60 months   \n",
       "\n",
       "  int_rate  installment grade sub_grade  ... num_tl_90g_dpd_24m  \\\n",
       "0   10.65%       162.87     B        B2  ...                NaN   \n",
       "1   15.27%        59.83     C        C4  ...                NaN   \n",
       "2   15.96%        84.33     C        C5  ...                NaN   \n",
       "3   13.49%       339.31     C        C1  ...                NaN   \n",
       "4   12.69%        67.79     B        B5  ...                NaN   \n",
       "\n",
       "  num_tl_op_past_12m pct_tl_nvr_dlq  percent_bc_gt_75 pub_rec_bankruptcies  \\\n",
       "0                NaN            NaN               NaN                  0.0   \n",
       "1                NaN            NaN               NaN                  0.0   \n",
       "2                NaN            NaN               NaN                  0.0   \n",
       "3                NaN            NaN               NaN                  0.0   \n",
       "4                NaN            NaN               NaN                  0.0   \n",
       "\n",
       "  tax_liens tot_hi_cred_lim total_bal_ex_mort total_bc_limit  \\\n",
       "0       0.0             NaN               NaN            NaN   \n",
       "1       0.0             NaN               NaN            NaN   \n",
       "2       0.0             NaN               NaN            NaN   \n",
       "3       0.0             NaN               NaN            NaN   \n",
       "4       0.0             NaN               NaN            NaN   \n",
       "\n",
       "  total_il_high_credit_limit  \n",
       "0                        NaN  \n",
       "1                        NaN  \n",
       "2                        NaN  \n",
       "3                        NaN  \n",
       "4                        NaN  \n",
       "\n",
       "[5 rows x 111 columns]"
      ]
     },
     "execution_count": 6,
     "metadata": {},
     "output_type": "execute_result"
    }
   ],
   "source": [
    "loan.head()"
   ]
  },
  {
   "cell_type": "code",
   "execution_count": 7,
   "metadata": {},
   "outputs": [
    {
     "data": {
      "text/plain": [
       "Index(['id', 'member_id', 'loan_amnt', 'funded_amnt', 'funded_amnt_inv',\n",
       "       'term', 'int_rate', 'installment', 'grade', 'sub_grade',\n",
       "       ...\n",
       "       'num_tl_90g_dpd_24m', 'num_tl_op_past_12m', 'pct_tl_nvr_dlq',\n",
       "       'percent_bc_gt_75', 'pub_rec_bankruptcies', 'tax_liens',\n",
       "       'tot_hi_cred_lim', 'total_bal_ex_mort', 'total_bc_limit',\n",
       "       'total_il_high_credit_limit'],\n",
       "      dtype='object', length=111)"
      ]
     },
     "execution_count": 7,
     "metadata": {},
     "output_type": "execute_result"
    }
   ],
   "source": [
    "# Looking at all the column names\n",
    "loan.columns"
   ]
  },
  {
   "cell_type": "markdown",
   "metadata": {},
   "source": [
    "Some of the important columns in the dataset are loan_amount, term, interest rate, grade, sub grade, annual income, purpose of the loan etc.\n",
    "\n",
    "The **target variable**, which we want to compare across the independent variables, is loan status. The strategy is to figure out compare the average default rates across various independent variables and identify the  ones that affect default rate the most.\n",
    "\n"
   ]
  },
  {
   "cell_type": "markdown",
   "metadata": {},
   "source": [
    "## 3. Data Cleaning\n",
    "\n",
    "Some columns have a large number of missing values, let's first fix the missing values and then check for other types of data quality problems."
   ]
  },
  {
   "cell_type": "code",
   "execution_count": 8,
   "metadata": {},
   "outputs": [
    {
     "data": {
      "text/plain": [
       "id                                0\n",
       "member_id                         0\n",
       "loan_amnt                         0\n",
       "funded_amnt                       0\n",
       "funded_amnt_inv                   0\n",
       "                              ...  \n",
       "tax_liens                        39\n",
       "tot_hi_cred_lim               39717\n",
       "total_bal_ex_mort             39717\n",
       "total_bc_limit                39717\n",
       "total_il_high_credit_limit    39717\n",
       "Length: 111, dtype: int64"
      ]
     },
     "execution_count": 8,
     "metadata": {},
     "output_type": "execute_result"
    }
   ],
   "source": [
    "# checking number of missing values in each column\n",
    "loan.isnull().sum()"
   ]
  },
  {
   "cell_type": "code",
   "execution_count": 9,
   "metadata": {},
   "outputs": [
    {
     "data": {
      "text/plain": [
       "id                              0.0\n",
       "member_id                       0.0\n",
       "loan_amnt                       0.0\n",
       "funded_amnt                     0.0\n",
       "funded_amnt_inv                 0.0\n",
       "                              ...  \n",
       "tax_liens                       0.0\n",
       "tot_hi_cred_lim               100.0\n",
       "total_bal_ex_mort             100.0\n",
       "total_bc_limit                100.0\n",
       "total_il_high_credit_limit    100.0\n",
       "Length: 111, dtype: float64"
      ]
     },
     "execution_count": 9,
     "metadata": {},
     "output_type": "execute_result"
    }
   ],
   "source": [
    "# percentage of missing values in each column\n",
    "round(loan.isnull().sum()/len(loan.index), 2)*100"
   ]
  },
  {
   "cell_type": "markdown",
   "metadata": {},
   "source": [
    "We can see that many columns have 100% missing values, some have 65%, 33% etc. First, let's get rid of the columns having 100% missing values."
   ]
  },
  {
   "cell_type": "code",
   "execution_count": 10,
   "metadata": {},
   "outputs": [
    {
     "name": "stdout",
     "output_type": "stream",
     "text": [
      "Index(['mths_since_last_record', 'next_pymnt_d', 'mths_since_last_major_derog',\n",
      "       'annual_inc_joint', 'dti_joint', 'verification_status_joint',\n",
      "       'tot_coll_amt', 'tot_cur_bal', 'open_acc_6m', 'open_il_6m',\n",
      "       'open_il_12m', 'open_il_24m', 'mths_since_rcnt_il', 'total_bal_il',\n",
      "       'il_util', 'open_rv_12m', 'open_rv_24m', 'max_bal_bc', 'all_util',\n",
      "       'total_rev_hi_lim', 'inq_fi', 'total_cu_tl', 'inq_last_12m',\n",
      "       'acc_open_past_24mths', 'avg_cur_bal', 'bc_open_to_buy', 'bc_util',\n",
      "       'mo_sin_old_il_acct', 'mo_sin_old_rev_tl_op', 'mo_sin_rcnt_rev_tl_op',\n",
      "       'mo_sin_rcnt_tl', 'mort_acc', 'mths_since_recent_bc',\n",
      "       'mths_since_recent_bc_dlq', 'mths_since_recent_inq',\n",
      "       'mths_since_recent_revol_delinq', 'num_accts_ever_120_pd',\n",
      "       'num_actv_bc_tl', 'num_actv_rev_tl', 'num_bc_sats', 'num_bc_tl',\n",
      "       'num_il_tl', 'num_op_rev_tl', 'num_rev_accts', 'num_rev_tl_bal_gt_0',\n",
      "       'num_sats', 'num_tl_120dpd_2m', 'num_tl_30dpd', 'num_tl_90g_dpd_24m',\n",
      "       'num_tl_op_past_12m', 'pct_tl_nvr_dlq', 'percent_bc_gt_75',\n",
      "       'tot_hi_cred_lim', 'total_bal_ex_mort', 'total_bc_limit',\n",
      "       'total_il_high_credit_limit'],\n",
      "      dtype='object')\n"
     ]
    }
   ],
   "source": [
    "# removing the columns having more than 90% missing values\n",
    "missing_columns = loan.columns[100*(loan.isnull().sum()/len(loan.index)) > 90]\n",
    "print(missing_columns)"
   ]
  },
  {
   "cell_type": "code",
   "execution_count": 11,
   "metadata": {},
   "outputs": [
    {
     "name": "stdout",
     "output_type": "stream",
     "text": [
      "(39717, 55)\n"
     ]
    }
   ],
   "source": [
    "loan = loan.drop(missing_columns, axis=1)\n",
    "print(loan.shape)"
   ]
  },
  {
   "cell_type": "code",
   "execution_count": 12,
   "metadata": {},
   "outputs": [
    {
     "data": {
      "text/plain": [
       "id                             0.000000\n",
       "member_id                      0.000000\n",
       "loan_amnt                      0.000000\n",
       "funded_amnt                    0.000000\n",
       "funded_amnt_inv                0.000000\n",
       "term                           0.000000\n",
       "int_rate                       0.000000\n",
       "installment                    0.000000\n",
       "grade                          0.000000\n",
       "sub_grade                      0.000000\n",
       "emp_title                      6.191303\n",
       "emp_length                     2.706650\n",
       "home_ownership                 0.000000\n",
       "annual_inc                     0.000000\n",
       "verification_status            0.000000\n",
       "issue_d                        0.000000\n",
       "loan_status                    0.000000\n",
       "pymnt_plan                     0.000000\n",
       "url                            0.000000\n",
       "desc                          32.580507\n",
       "purpose                        0.000000\n",
       "title                          0.027696\n",
       "zip_code                       0.000000\n",
       "addr_state                     0.000000\n",
       "dti                            0.000000\n",
       "delinq_2yrs                    0.000000\n",
       "earliest_cr_line               0.000000\n",
       "inq_last_6mths                 0.000000\n",
       "mths_since_last_delinq        64.662487\n",
       "open_acc                       0.000000\n",
       "pub_rec                        0.000000\n",
       "revol_bal                      0.000000\n",
       "revol_util                     0.125891\n",
       "total_acc                      0.000000\n",
       "initial_list_status            0.000000\n",
       "out_prncp                      0.000000\n",
       "out_prncp_inv                  0.000000\n",
       "total_pymnt                    0.000000\n",
       "total_pymnt_inv                0.000000\n",
       "total_rec_prncp                0.000000\n",
       "total_rec_int                  0.000000\n",
       "total_rec_late_fee             0.000000\n",
       "recoveries                     0.000000\n",
       "collection_recovery_fee        0.000000\n",
       "last_pymnt_d                   0.178765\n",
       "last_pymnt_amnt                0.000000\n",
       "last_credit_pull_d             0.005036\n",
       "collections_12_mths_ex_med     0.140998\n",
       "policy_code                    0.000000\n",
       "application_type               0.000000\n",
       "acc_now_delinq                 0.000000\n",
       "chargeoff_within_12_mths       0.140998\n",
       "delinq_amnt                    0.000000\n",
       "pub_rec_bankruptcies           1.754916\n",
       "tax_liens                      0.098195\n",
       "dtype: float64"
      ]
     },
     "execution_count": 12,
     "metadata": {},
     "output_type": "execute_result"
    }
   ],
   "source": [
    "# checking number of missing values again\n",
    "100*(loan.isnull().sum()/len(loan.index))"
   ]
  },
  {
   "cell_type": "code",
   "execution_count": 13,
   "metadata": {},
   "outputs": [
    {
     "name": "stdout",
     "output_type": "stream",
     "text": [
      "0      Borrower added on 12/22/11 > I need to upgra...\n",
      "1      Borrower added on 12/22/11 > I plan to use t...\n",
      "2                                                  NaN\n",
      "3      Borrower added on 12/21/11 > to pay for prop...\n",
      "4      Borrower added on 12/21/11 > I plan on combi...\n",
      "Name: desc, dtype: object\n",
      "0     NaN\n",
      "1     NaN\n",
      "2     NaN\n",
      "3    35.0\n",
      "4    38.0\n",
      "Name: mths_since_last_delinq, dtype: float64\n"
     ]
    }
   ],
   "source": [
    "# Two column still showing 33% and 65% missing value\n",
    "# checking the sample data to make a decision\n",
    "print(loan['desc'].head(5))\n",
    "print(loan['mths_since_last_delinq'].head(5))"
   ]
  },
  {
   "cell_type": "code",
   "execution_count": 14,
   "metadata": {},
   "outputs": [
    {
     "name": "stdout",
     "output_type": "stream",
     "text": [
      "Final shape of df loan is:  (39717, 53)\n"
     ]
    }
   ],
   "source": [
    "# desc (33% missing) - This is some text and can be ignored. We have the purpose of the loan in another column\n",
    "# mths_since_last_delinq(95%) - This will not be avaible for new loan application so this column can be dropped\n",
    "\n",
    "loan = loan.drop(['desc','mths_since_last_delinq'],axis = 1)\n",
    "print(\"Final shape of df loan is: \", loan.shape)"
   ]
  },
  {
   "cell_type": "code",
   "execution_count": 15,
   "metadata": {
    "scrolled": true
   },
   "outputs": [
    {
     "data": {
      "text/plain": [
       "id                            0.000000\n",
       "member_id                     0.000000\n",
       "loan_amnt                     0.000000\n",
       "funded_amnt                   0.000000\n",
       "funded_amnt_inv               0.000000\n",
       "term                          0.000000\n",
       "int_rate                      0.000000\n",
       "installment                   0.000000\n",
       "grade                         0.000000\n",
       "sub_grade                     0.000000\n",
       "emp_title                     6.191303\n",
       "emp_length                    2.706650\n",
       "home_ownership                0.000000\n",
       "annual_inc                    0.000000\n",
       "verification_status           0.000000\n",
       "issue_d                       0.000000\n",
       "loan_status                   0.000000\n",
       "pymnt_plan                    0.000000\n",
       "url                           0.000000\n",
       "purpose                       0.000000\n",
       "title                         0.027696\n",
       "zip_code                      0.000000\n",
       "addr_state                    0.000000\n",
       "dti                           0.000000\n",
       "delinq_2yrs                   0.000000\n",
       "earliest_cr_line              0.000000\n",
       "inq_last_6mths                0.000000\n",
       "open_acc                      0.000000\n",
       "pub_rec                       0.000000\n",
       "revol_bal                     0.000000\n",
       "revol_util                    0.125891\n",
       "total_acc                     0.000000\n",
       "initial_list_status           0.000000\n",
       "out_prncp                     0.000000\n",
       "out_prncp_inv                 0.000000\n",
       "total_pymnt                   0.000000\n",
       "total_pymnt_inv               0.000000\n",
       "total_rec_prncp               0.000000\n",
       "total_rec_int                 0.000000\n",
       "total_rec_late_fee            0.000000\n",
       "recoveries                    0.000000\n",
       "collection_recovery_fee       0.000000\n",
       "last_pymnt_d                  0.178765\n",
       "last_pymnt_amnt               0.000000\n",
       "last_credit_pull_d            0.005036\n",
       "collections_12_mths_ex_med    0.140998\n",
       "policy_code                   0.000000\n",
       "application_type              0.000000\n",
       "acc_now_delinq                0.000000\n",
       "chargeoff_within_12_mths      0.140998\n",
       "delinq_amnt                   0.000000\n",
       "pub_rec_bankruptcies          1.754916\n",
       "tax_liens                     0.098195\n",
       "dtype: float64"
      ]
     },
     "execution_count": 15,
     "metadata": {},
     "output_type": "execute_result"
    }
   ],
   "source": [
    "# checking number of missing values again\n",
    "100*(loan.isnull().sum()/len(loan.index))"
   ]
  },
  {
   "cell_type": "markdown",
   "metadata": {},
   "source": [
    "The columns emp_title, emp_length and pub_rec_bankruptcies have 6.19%,2.71% and 2% missing values.dropping the null rows to make the data cleaner."
   ]
  },
  {
   "cell_type": "code",
   "execution_count": 16,
   "metadata": {},
   "outputs": [],
   "source": [
    "#loan=loan[~loan['emp_title'].isnull()]\n",
    "loan=loan[~loan['emp_length'].isnull()]\n",
    "#loan=loan[~loan['pub_rec_bankruptcies'].isnull()]"
   ]
  },
  {
   "cell_type": "code",
   "execution_count": 17,
   "metadata": {},
   "outputs": [
    {
     "data": {
      "text/plain": [
       "id                            0.000000\n",
       "member_id                     0.000000\n",
       "loan_amnt                     0.000000\n",
       "funded_amnt                   0.000000\n",
       "funded_amnt_inv               0.000000\n",
       "term                          0.000000\n",
       "int_rate                      0.000000\n",
       "installment                   0.000000\n",
       "grade                         0.000000\n",
       "sub_grade                     0.000000\n",
       "emp_title                     3.726515\n",
       "emp_length                    0.000000\n",
       "home_ownership                0.000000\n",
       "annual_inc                    0.000000\n",
       "verification_status           0.000000\n",
       "issue_d                       0.000000\n",
       "loan_status                   0.000000\n",
       "pymnt_plan                    0.000000\n",
       "url                           0.000000\n",
       "purpose                       0.000000\n",
       "title                         0.025879\n",
       "zip_code                      0.000000\n",
       "addr_state                    0.000000\n",
       "dti                           0.000000\n",
       "delinq_2yrs                   0.000000\n",
       "earliest_cr_line              0.000000\n",
       "inq_last_6mths                0.000000\n",
       "open_acc                      0.000000\n",
       "pub_rec                       0.000000\n",
       "revol_bal                     0.000000\n",
       "revol_util                    0.121629\n",
       "total_acc                     0.000000\n",
       "initial_list_status           0.000000\n",
       "out_prncp                     0.000000\n",
       "out_prncp_inv                 0.000000\n",
       "total_pymnt                   0.000000\n",
       "total_pymnt_inv               0.000000\n",
       "total_rec_prncp               0.000000\n",
       "total_rec_int                 0.000000\n",
       "total_rec_late_fee            0.000000\n",
       "recoveries                    0.000000\n",
       "collection_recovery_fee       0.000000\n",
       "last_pymnt_d                  0.170799\n",
       "last_pymnt_amnt               0.000000\n",
       "last_credit_pull_d            0.005176\n",
       "collections_12_mths_ex_med    0.144920\n",
       "policy_code                   0.000000\n",
       "application_type              0.000000\n",
       "acc_now_delinq                0.000000\n",
       "chargeoff_within_12_mths      0.144920\n",
       "delinq_amnt                   0.000000\n",
       "pub_rec_bankruptcies          1.803737\n",
       "tax_liens                     0.100926\n",
       "dtype: float64"
      ]
     },
     "execution_count": 17,
     "metadata": {},
     "output_type": "execute_result"
    }
   ],
   "source": [
    "# checking number of missing values again\n",
    "100*(loan.isnull().sum()/len(loan.index))"
   ]
  },
  {
   "cell_type": "markdown",
   "metadata": {},
   "source": [
    "Let's check whether some rows have a large number of missing values."
   ]
  },
  {
   "cell_type": "code",
   "execution_count": 18,
   "metadata": {},
   "outputs": [
    {
     "data": {
      "text/plain": [
       "0        1\n",
       "1        0\n",
       "2        1\n",
       "3        0\n",
       "4        0\n",
       "        ..\n",
       "39712    4\n",
       "39713    4\n",
       "39714    5\n",
       "39715    5\n",
       "39716    4\n",
       "Length: 38642, dtype: int64"
      ]
     },
     "execution_count": 18,
     "metadata": {},
     "output_type": "execute_result"
    }
   ],
   "source": [
    "# missing values in rows\n",
    "loan.isnull().sum(axis=1)"
   ]
  },
  {
   "cell_type": "code",
   "execution_count": 19,
   "metadata": {},
   "outputs": [
    {
     "data": {
      "text/plain": [
       "0"
      ]
     },
     "execution_count": 19,
     "metadata": {},
     "output_type": "execute_result"
    }
   ],
   "source": [
    "# checking whether some rows have more than 5 missing values\n",
    "len(loan[loan.isnull().sum(axis=1) > 5].index)"
   ]
  },
  {
   "cell_type": "code",
   "execution_count": 20,
   "metadata": {},
   "outputs": [
    {
     "data": {
      "text/plain": [
       "(38642, 53)"
      ]
     },
     "execution_count": 20,
     "metadata": {},
     "output_type": "execute_result"
    }
   ],
   "source": [
    "loan.shape"
   ]
  },
  {
   "cell_type": "markdown",
   "metadata": {},
   "source": [
    "The data looks clean now, Let's also check whether all columns are in the correct format."
   ]
  },
  {
   "cell_type": "code",
   "execution_count": 21,
   "metadata": {
    "scrolled": false
   },
   "outputs": [
    {
     "name": "stdout",
     "output_type": "stream",
     "text": [
      "<class 'pandas.core.frame.DataFrame'>\n",
      "Int64Index: 38642 entries, 0 to 39716\n",
      "Data columns (total 53 columns):\n",
      " #   Column                      Non-Null Count  Dtype  \n",
      "---  ------                      --------------  -----  \n",
      " 0   id                          38642 non-null  int64  \n",
      " 1   member_id                   38642 non-null  int64  \n",
      " 2   loan_amnt                   38642 non-null  int64  \n",
      " 3   funded_amnt                 38642 non-null  int64  \n",
      " 4   funded_amnt_inv             38642 non-null  float64\n",
      " 5   term                        38642 non-null  object \n",
      " 6   int_rate                    38642 non-null  object \n",
      " 7   installment                 38642 non-null  float64\n",
      " 8   grade                       38642 non-null  object \n",
      " 9   sub_grade                   38642 non-null  object \n",
      " 10  emp_title                   37202 non-null  object \n",
      " 11  emp_length                  38642 non-null  object \n",
      " 12  home_ownership              38642 non-null  object \n",
      " 13  annual_inc                  38642 non-null  float64\n",
      " 14  verification_status         38642 non-null  object \n",
      " 15  issue_d                     38642 non-null  object \n",
      " 16  loan_status                 38642 non-null  object \n",
      " 17  pymnt_plan                  38642 non-null  object \n",
      " 18  url                         38642 non-null  object \n",
      " 19  purpose                     38642 non-null  object \n",
      " 20  title                       38632 non-null  object \n",
      " 21  zip_code                    38642 non-null  object \n",
      " 22  addr_state                  38642 non-null  object \n",
      " 23  dti                         38642 non-null  float64\n",
      " 24  delinq_2yrs                 38642 non-null  int64  \n",
      " 25  earliest_cr_line            38642 non-null  object \n",
      " 26  inq_last_6mths              38642 non-null  int64  \n",
      " 27  open_acc                    38642 non-null  int64  \n",
      " 28  pub_rec                     38642 non-null  int64  \n",
      " 29  revol_bal                   38642 non-null  int64  \n",
      " 30  revol_util                  38595 non-null  object \n",
      " 31  total_acc                   38642 non-null  int64  \n",
      " 32  initial_list_status         38642 non-null  object \n",
      " 33  out_prncp                   38642 non-null  float64\n",
      " 34  out_prncp_inv               38642 non-null  float64\n",
      " 35  total_pymnt                 38642 non-null  float64\n",
      " 36  total_pymnt_inv             38642 non-null  float64\n",
      " 37  total_rec_prncp             38642 non-null  float64\n",
      " 38  total_rec_int               38642 non-null  float64\n",
      " 39  total_rec_late_fee          38642 non-null  float64\n",
      " 40  recoveries                  38642 non-null  float64\n",
      " 41  collection_recovery_fee     38642 non-null  float64\n",
      " 42  last_pymnt_d                38576 non-null  object \n",
      " 43  last_pymnt_amnt             38642 non-null  float64\n",
      " 44  last_credit_pull_d          38640 non-null  object \n",
      " 45  collections_12_mths_ex_med  38586 non-null  float64\n",
      " 46  policy_code                 38642 non-null  int64  \n",
      " 47  application_type            38642 non-null  object \n",
      " 48  acc_now_delinq              38642 non-null  int64  \n",
      " 49  chargeoff_within_12_mths    38586 non-null  float64\n",
      " 50  delinq_amnt                 38642 non-null  int64  \n",
      " 51  pub_rec_bankruptcies        37945 non-null  float64\n",
      " 52  tax_liens                   38603 non-null  float64\n",
      "dtypes: float64(18), int64(13), object(22)\n",
      "memory usage: 15.9+ MB\n"
     ]
    }
   ],
   "source": [
    "loan.info()"
   ]
  },
  {
   "cell_type": "code",
   "execution_count": 22,
   "metadata": {
    "scrolled": false
   },
   "outputs": [
    {
     "data": {
      "text/plain": [
       "10.99%    932\n",
       "13.49%    813\n",
       "11.49%    800\n",
       "7.51%     756\n",
       "7.88%     701\n",
       "         ... \n",
       "16.15%      1\n",
       "17.46%      1\n",
       "24.59%      1\n",
       "24.40%      1\n",
       "17.54%      1\n",
       "Name: int_rate, Length: 371, dtype: int64"
      ]
     },
     "execution_count": 22,
     "metadata": {},
     "output_type": "execute_result"
    }
   ],
   "source": [
    "# checking the values\n",
    "loan['int_rate'].value_counts()"
   ]
  },
  {
   "cell_type": "code",
   "execution_count": 23,
   "metadata": {},
   "outputs": [],
   "source": [
    "# The column int_rate is character type, let's convert it to float\n",
    "loan['int_rate']=loan['int_rate'].apply(lambda x: x.replace(\"%\",\"\")).astype(\"float\")"
   ]
  },
  {
   "cell_type": "code",
   "execution_count": 24,
   "metadata": {},
   "outputs": [
    {
     "data": {
      "text/plain": [
       "id                              int64\n",
       "member_id                       int64\n",
       "loan_amnt                       int64\n",
       "funded_amnt                     int64\n",
       "funded_amnt_inv               float64\n",
       "term                           object\n",
       "int_rate                      float64\n",
       "installment                   float64\n",
       "grade                          object\n",
       "sub_grade                      object\n",
       "emp_title                      object\n",
       "emp_length                     object\n",
       "home_ownership                 object\n",
       "annual_inc                    float64\n",
       "verification_status            object\n",
       "issue_d                        object\n",
       "loan_status                    object\n",
       "pymnt_plan                     object\n",
       "url                            object\n",
       "purpose                        object\n",
       "title                          object\n",
       "zip_code                       object\n",
       "addr_state                     object\n",
       "dti                           float64\n",
       "delinq_2yrs                     int64\n",
       "earliest_cr_line               object\n",
       "inq_last_6mths                  int64\n",
       "open_acc                        int64\n",
       "pub_rec                         int64\n",
       "revol_bal                       int64\n",
       "revol_util                     object\n",
       "total_acc                       int64\n",
       "initial_list_status            object\n",
       "out_prncp                     float64\n",
       "out_prncp_inv                 float64\n",
       "total_pymnt                   float64\n",
       "total_pymnt_inv               float64\n",
       "total_rec_prncp               float64\n",
       "total_rec_int                 float64\n",
       "total_rec_late_fee            float64\n",
       "recoveries                    float64\n",
       "collection_recovery_fee       float64\n",
       "last_pymnt_d                   object\n",
       "last_pymnt_amnt               float64\n",
       "last_credit_pull_d             object\n",
       "collections_12_mths_ex_med    float64\n",
       "policy_code                     int64\n",
       "application_type               object\n",
       "acc_now_delinq                  int64\n",
       "chargeoff_within_12_mths      float64\n",
       "delinq_amnt                     int64\n",
       "pub_rec_bankruptcies          float64\n",
       "tax_liens                     float64\n",
       "dtype: object"
      ]
     },
     "execution_count": 24,
     "metadata": {},
     "output_type": "execute_result"
    }
   ],
   "source": [
    "# checking the data types\n",
    "loan.dtypes"
   ]
  },
  {
   "cell_type": "code",
   "execution_count": 25,
   "metadata": {
    "scrolled": true
   },
   "outputs": [
    {
     "data": {
      "text/plain": [
       "10+ years    8879\n",
       "< 1 year     4583\n",
       "2 years      4388\n",
       "3 years      4095\n",
       "4 years      3436\n",
       "5 years      3282\n",
       "1 year       3240\n",
       "6 years      2229\n",
       "7 years      1773\n",
       "8 years      1479\n",
       "9 years      1258\n",
       "Name: emp_length, dtype: int64"
      ]
     },
     "execution_count": 25,
     "metadata": {},
     "output_type": "execute_result"
    }
   ],
   "source": [
    "# checking the values\n",
    "loan['emp_length'].value_counts()"
   ]
  },
  {
   "cell_type": "code",
   "execution_count": 26,
   "metadata": {},
   "outputs": [],
   "source": [
    "# extracting the numeric part from the variable employment length\n",
    "# using regular expression to extract numeric values from the string and converting it to integer type.\n",
    "import re\n",
    "\n",
    "loan['emp_length']=loan['emp_length'].apply(lambda x: re.findall('\\d+', str(x))[0]).astype(\"int32\")"
   ]
  },
  {
   "cell_type": "code",
   "execution_count": 27,
   "metadata": {},
   "outputs": [
    {
     "data": {
      "text/plain": [
       "id                              int64\n",
       "member_id                       int64\n",
       "loan_amnt                       int64\n",
       "funded_amnt                     int64\n",
       "funded_amnt_inv               float64\n",
       "term                           object\n",
       "int_rate                      float64\n",
       "installment                   float64\n",
       "grade                          object\n",
       "sub_grade                      object\n",
       "emp_title                      object\n",
       "emp_length                      int32\n",
       "home_ownership                 object\n",
       "annual_inc                    float64\n",
       "verification_status            object\n",
       "issue_d                        object\n",
       "loan_status                    object\n",
       "pymnt_plan                     object\n",
       "url                            object\n",
       "purpose                        object\n",
       "title                          object\n",
       "zip_code                       object\n",
       "addr_state                     object\n",
       "dti                           float64\n",
       "delinq_2yrs                     int64\n",
       "earliest_cr_line               object\n",
       "inq_last_6mths                  int64\n",
       "open_acc                        int64\n",
       "pub_rec                         int64\n",
       "revol_bal                       int64\n",
       "revol_util                     object\n",
       "total_acc                       int64\n",
       "initial_list_status            object\n",
       "out_prncp                     float64\n",
       "out_prncp_inv                 float64\n",
       "total_pymnt                   float64\n",
       "total_pymnt_inv               float64\n",
       "total_rec_prncp               float64\n",
       "total_rec_int                 float64\n",
       "total_rec_late_fee            float64\n",
       "recoveries                    float64\n",
       "collection_recovery_fee       float64\n",
       "last_pymnt_d                   object\n",
       "last_pymnt_amnt               float64\n",
       "last_credit_pull_d             object\n",
       "collections_12_mths_ex_med    float64\n",
       "policy_code                     int64\n",
       "application_type               object\n",
       "acc_now_delinq                  int64\n",
       "chargeoff_within_12_mths      float64\n",
       "delinq_amnt                     int64\n",
       "pub_rec_bankruptcies          float64\n",
       "tax_liens                     float64\n",
       "dtype: object"
      ]
     },
     "execution_count": 27,
     "metadata": {},
     "output_type": "execute_result"
    }
   ],
   "source": [
    "# looking at types of the columns again\n",
    "loan.dtypes"
   ]
  },
  {
   "cell_type": "markdown",
   "metadata": {},
   "source": [
    "## 4. Exploratory Data Analysis\n",
    "\n",
    "Let's start with data analysis. we have some varaibles which are not useful in analysis. There are certain attributes which is relevant only for a processed loan. As we are trying to predict attributes that\n",
    "helps to decide whether a loan will be defaulted or not, we can drop this attributes.\n",
    "\n",
    "\n",
    "\"\"\" \"member_id,id,\" - doesn't add any information\n",
    "\"url\" - not useful, can be dropped\n",
    "\"pymnt_plan\", \"application_type\", \"initial_list_status\" - only one value for all rows so no analysis possible\n",
    "\"zip_code\" - no use, we can use address_state for analysis\n",
    "\"title\" - doesn't seems to add any information \"\"\""
   ]
  },
  {
   "cell_type": "code",
   "execution_count": 28,
   "metadata": {},
   "outputs": [
    {
     "name": "stdout",
     "output_type": "stream",
     "text": [
      "['delinq_2yrs', 'earliest_cr_line', 'inq_last_6mths', 'open_acc', 'pub_rec', 'revol_bal', 'revol_util', 'total_acc', 'out_prncp', 'out_prncp_inv', 'total_pymnt', 'total_pymnt_inv', 'total_rec_prncp', 'total_rec_int', 'total_rec_late_fee', 'recoveries', 'collection_recovery_fee', 'last_pymnt_d', 'last_pymnt_amnt', 'last_credit_pull_d', 'application_type', 'member_id', 'id', 'url', 'funded_amnt', 'pymnt_plan', 'zip_code', 'title', 'initial_list_status', 'application_type']\n"
     ]
    }
   ],
   "source": [
    "# Loan attributes applicable only for processed loan\n",
    "\n",
    "loan_attributes = [\"delinq_2yrs\", \"earliest_cr_line\",\"inq_last_6mths\", \"open_acc\", \"pub_rec\", \"revol_bal\", \"revol_util\",\n",
    "                    \"total_acc\", \"out_prncp\", \"out_prncp_inv\", \"total_pymnt\",\"total_pymnt_inv\",\"total_rec_prncp\",\n",
    "                   \"total_rec_int\", \"total_rec_late_fee\", \"recoveries\", \"collection_recovery_fee\", \"last_pymnt_d\",\n",
    "                  \"last_pymnt_amnt\", \"last_credit_pull_d\", \"application_type\", \"member_id\",\"id\",\"url\" ,\"funded_amnt\",\"pymnt_plan\",\"zip_code\",\"title\",\"initial_list_status\",\n",
    "\"application_type\"]\n",
    "print(loan_attributes)"
   ]
  },
  {
   "cell_type": "code",
   "execution_count": 29,
   "metadata": {},
   "outputs": [],
   "source": [
    "# let's now remove the unwanted columns for analysis\n",
    "df = loan.drop(loan_attributes, axis=1)"
   ]
  },
  {
   "cell_type": "code",
   "execution_count": 30,
   "metadata": {},
   "outputs": [],
   "source": [
    "df=df.reset_index()"
   ]
  },
  {
   "cell_type": "markdown",
   "metadata": {},
   "source": [
    "Typically, variables such as acc_now_delinquent, chargeoff within 12 months etc. (which are related to the applicant's past loans)."
   ]
  },
  {
   "cell_type": "markdown",
   "metadata": {},
   "source": [
    "Next, let's have a look at the loan_status. We need to relabel the values to a binary form - 0 or 1, 1 indicating that the person has defaulted and 0 otherwise."
   ]
  },
  {
   "cell_type": "code",
   "execution_count": 31,
   "metadata": {},
   "outputs": [
    {
     "data": {
      "text/plain": [
       "(38642, 25)"
      ]
     },
     "execution_count": 31,
     "metadata": {},
     "output_type": "execute_result"
    }
   ],
   "source": [
    "df.shape"
   ]
  },
  {
   "cell_type": "code",
   "execution_count": 32,
   "metadata": {},
   "outputs": [
    {
     "data": {
      "text/plain": [
       "Fully Paid     32145\n",
       "Charged Off     5399\n",
       "Current         1098\n",
       "Name: loan_status, dtype: int64"
      ]
     },
     "execution_count": 32,
     "metadata": {},
     "output_type": "execute_result"
    }
   ],
   "source": [
    "df['loan_status'] = df['loan_status'].astype('category')\n",
    "df['loan_status'].value_counts()"
   ]
  },
  {
   "cell_type": "markdown",
   "metadata": {},
   "source": [
    "We can see that fully paid comprises most of the loans. The ones marked 'current' are neither fully paid not defaulted, so let's get rid of the current loans. Also, let's tag the other two values as 0 or 1. "
   ]
  },
  {
   "cell_type": "code",
   "execution_count": 33,
   "metadata": {},
   "outputs": [
    {
     "data": {
      "text/plain": [
       "0    32145\n",
       "1     5399\n",
       "Name: loan_status, dtype: int64"
      ]
     },
     "execution_count": 33,
     "metadata": {},
     "output_type": "execute_result"
    }
   ],
   "source": [
    "# filtering only fully paid or charged-off\n",
    "df = df[df['loan_status'] != 'Current']\n",
    "df['loan_status'] = df['loan_status'].apply(lambda x: 0 if x=='Fully Paid' else 1).astype(\"int32\")\n",
    "\n",
    "# checking the values\n",
    "df['loan_status'].value_counts()"
   ]
  },
  {
   "cell_type": "markdown",
   "metadata": {},
   "source": [
    "### 4.1 Loan distribution & defaulters – “A birds eye view”"
   ]
  },
  {
   "cell_type": "code",
   "execution_count": 34,
   "metadata": {
    "scrolled": true
   },
   "outputs": [
    {
     "data": {
      "text/html": [
       "<div>\n",
       "<style scoped>\n",
       "    .dataframe tbody tr th:only-of-type {\n",
       "        vertical-align: middle;\n",
       "    }\n",
       "\n",
       "    .dataframe tbody tr th {\n",
       "        vertical-align: top;\n",
       "    }\n",
       "\n",
       "    .dataframe thead th {\n",
       "        text-align: right;\n",
       "    }\n",
       "</style>\n",
       "<table border=\"1\" class=\"dataframe\">\n",
       "  <thead>\n",
       "    <tr style=\"text-align: right;\">\n",
       "      <th></th>\n",
       "      <th>count</th>\n",
       "      <th>mean</th>\n",
       "      <th>std</th>\n",
       "      <th>min</th>\n",
       "      <th>25%</th>\n",
       "      <th>50%</th>\n",
       "      <th>75%</th>\n",
       "      <th>max</th>\n",
       "    </tr>\n",
       "  </thead>\n",
       "  <tbody>\n",
       "    <tr>\n",
       "      <th>index</th>\n",
       "      <td>37544.0</td>\n",
       "      <td>20345.152408</td>\n",
       "      <td>11434.230775</td>\n",
       "      <td>0.00</td>\n",
       "      <td>10553.75</td>\n",
       "      <td>20592.50</td>\n",
       "      <td>30263.2500</td>\n",
       "      <td>39716.00</td>\n",
       "    </tr>\n",
       "    <tr>\n",
       "      <th>loan_amnt</th>\n",
       "      <td>37544.0</td>\n",
       "      <td>11119.329986</td>\n",
       "      <td>7354.098954</td>\n",
       "      <td>500.00</td>\n",
       "      <td>5500.00</td>\n",
       "      <td>10000.00</td>\n",
       "      <td>15000.0000</td>\n",
       "      <td>35000.00</td>\n",
       "    </tr>\n",
       "    <tr>\n",
       "      <th>funded_amnt_inv</th>\n",
       "      <td>37544.0</td>\n",
       "      <td>10280.495739</td>\n",
       "      <td>7034.124211</td>\n",
       "      <td>0.00</td>\n",
       "      <td>5000.00</td>\n",
       "      <td>8850.00</td>\n",
       "      <td>14075.0000</td>\n",
       "      <td>35000.00</td>\n",
       "    </tr>\n",
       "    <tr>\n",
       "      <th>int_rate</th>\n",
       "      <td>37544.0</td>\n",
       "      <td>11.963319</td>\n",
       "      <td>3.683012</td>\n",
       "      <td>5.42</td>\n",
       "      <td>8.94</td>\n",
       "      <td>11.83</td>\n",
       "      <td>14.4200</td>\n",
       "      <td>24.40</td>\n",
       "    </tr>\n",
       "    <tr>\n",
       "      <th>installment</th>\n",
       "      <td>37544.0</td>\n",
       "      <td>324.650164</td>\n",
       "      <td>208.901055</td>\n",
       "      <td>15.69</td>\n",
       "      <td>167.37</td>\n",
       "      <td>280.00</td>\n",
       "      <td>428.9425</td>\n",
       "      <td>1305.19</td>\n",
       "    </tr>\n",
       "    <tr>\n",
       "      <th>emp_length</th>\n",
       "      <td>37544.0</td>\n",
       "      <td>5.061048</td>\n",
       "      <td>3.401750</td>\n",
       "      <td>1.00</td>\n",
       "      <td>2.00</td>\n",
       "      <td>4.00</td>\n",
       "      <td>9.0000</td>\n",
       "      <td>10.00</td>\n",
       "    </tr>\n",
       "    <tr>\n",
       "      <th>annual_inc</th>\n",
       "      <td>37544.0</td>\n",
       "      <td>69407.080230</td>\n",
       "      <td>64676.984485</td>\n",
       "      <td>4000.00</td>\n",
       "      <td>41000.00</td>\n",
       "      <td>60000.00</td>\n",
       "      <td>83000.0000</td>\n",
       "      <td>6000000.00</td>\n",
       "    </tr>\n",
       "    <tr>\n",
       "      <th>loan_status</th>\n",
       "      <td>37544.0</td>\n",
       "      <td>0.143805</td>\n",
       "      <td>0.350896</td>\n",
       "      <td>0.00</td>\n",
       "      <td>0.00</td>\n",
       "      <td>0.00</td>\n",
       "      <td>0.0000</td>\n",
       "      <td>1.00</td>\n",
       "    </tr>\n",
       "    <tr>\n",
       "      <th>dti</th>\n",
       "      <td>37544.0</td>\n",
       "      <td>13.284186</td>\n",
       "      <td>6.660551</td>\n",
       "      <td>0.00</td>\n",
       "      <td>8.16</td>\n",
       "      <td>13.38</td>\n",
       "      <td>18.5500</td>\n",
       "      <td>29.99</td>\n",
       "    </tr>\n",
       "    <tr>\n",
       "      <th>collections_12_mths_ex_med</th>\n",
       "      <td>37488.0</td>\n",
       "      <td>0.000000</td>\n",
       "      <td>0.000000</td>\n",
       "      <td>0.00</td>\n",
       "      <td>0.00</td>\n",
       "      <td>0.00</td>\n",
       "      <td>0.0000</td>\n",
       "      <td>0.00</td>\n",
       "    </tr>\n",
       "    <tr>\n",
       "      <th>policy_code</th>\n",
       "      <td>37544.0</td>\n",
       "      <td>1.000000</td>\n",
       "      <td>0.000000</td>\n",
       "      <td>1.00</td>\n",
       "      <td>1.00</td>\n",
       "      <td>1.00</td>\n",
       "      <td>1.0000</td>\n",
       "      <td>1.00</td>\n",
       "    </tr>\n",
       "    <tr>\n",
       "      <th>acc_now_delinq</th>\n",
       "      <td>37544.0</td>\n",
       "      <td>0.000000</td>\n",
       "      <td>0.000000</td>\n",
       "      <td>0.00</td>\n",
       "      <td>0.00</td>\n",
       "      <td>0.00</td>\n",
       "      <td>0.0000</td>\n",
       "      <td>0.00</td>\n",
       "    </tr>\n",
       "    <tr>\n",
       "      <th>chargeoff_within_12_mths</th>\n",
       "      <td>37488.0</td>\n",
       "      <td>0.000000</td>\n",
       "      <td>0.000000</td>\n",
       "      <td>0.00</td>\n",
       "      <td>0.00</td>\n",
       "      <td>0.00</td>\n",
       "      <td>0.0000</td>\n",
       "      <td>0.00</td>\n",
       "    </tr>\n",
       "    <tr>\n",
       "      <th>delinq_amnt</th>\n",
       "      <td>37544.0</td>\n",
       "      <td>0.000000</td>\n",
       "      <td>0.000000</td>\n",
       "      <td>0.00</td>\n",
       "      <td>0.00</td>\n",
       "      <td>0.00</td>\n",
       "      <td>0.0000</td>\n",
       "      <td>0.00</td>\n",
       "    </tr>\n",
       "    <tr>\n",
       "      <th>pub_rec_bankruptcies</th>\n",
       "      <td>36847.0</td>\n",
       "      <td>0.041794</td>\n",
       "      <td>0.200799</td>\n",
       "      <td>0.00</td>\n",
       "      <td>0.00</td>\n",
       "      <td>0.00</td>\n",
       "      <td>0.0000</td>\n",
       "      <td>2.00</td>\n",
       "    </tr>\n",
       "    <tr>\n",
       "      <th>tax_liens</th>\n",
       "      <td>37505.0</td>\n",
       "      <td>0.000000</td>\n",
       "      <td>0.000000</td>\n",
       "      <td>0.00</td>\n",
       "      <td>0.00</td>\n",
       "      <td>0.00</td>\n",
       "      <td>0.0000</td>\n",
       "      <td>0.00</td>\n",
       "    </tr>\n",
       "  </tbody>\n",
       "</table>\n",
       "</div>"
      ],
      "text/plain": [
       "                              count          mean           std      min  \\\n",
       "index                       37544.0  20345.152408  11434.230775     0.00   \n",
       "loan_amnt                   37544.0  11119.329986   7354.098954   500.00   \n",
       "funded_amnt_inv             37544.0  10280.495739   7034.124211     0.00   \n",
       "int_rate                    37544.0     11.963319      3.683012     5.42   \n",
       "installment                 37544.0    324.650164    208.901055    15.69   \n",
       "emp_length                  37544.0      5.061048      3.401750     1.00   \n",
       "annual_inc                  37544.0  69407.080230  64676.984485  4000.00   \n",
       "loan_status                 37544.0      0.143805      0.350896     0.00   \n",
       "dti                         37544.0     13.284186      6.660551     0.00   \n",
       "collections_12_mths_ex_med  37488.0      0.000000      0.000000     0.00   \n",
       "policy_code                 37544.0      1.000000      0.000000     1.00   \n",
       "acc_now_delinq              37544.0      0.000000      0.000000     0.00   \n",
       "chargeoff_within_12_mths    37488.0      0.000000      0.000000     0.00   \n",
       "delinq_amnt                 37544.0      0.000000      0.000000     0.00   \n",
       "pub_rec_bankruptcies        36847.0      0.041794      0.200799     0.00   \n",
       "tax_liens                   37505.0      0.000000      0.000000     0.00   \n",
       "\n",
       "                                 25%       50%         75%         max  \n",
       "index                       10553.75  20592.50  30263.2500    39716.00  \n",
       "loan_amnt                    5500.00  10000.00  15000.0000    35000.00  \n",
       "funded_amnt_inv              5000.00   8850.00  14075.0000    35000.00  \n",
       "int_rate                        8.94     11.83     14.4200       24.40  \n",
       "installment                   167.37    280.00    428.9425     1305.19  \n",
       "emp_length                      2.00      4.00      9.0000       10.00  \n",
       "annual_inc                  41000.00  60000.00  83000.0000  6000000.00  \n",
       "loan_status                     0.00      0.00      0.0000        1.00  \n",
       "dti                             8.16     13.38     18.5500       29.99  \n",
       "collections_12_mths_ex_med      0.00      0.00      0.0000        0.00  \n",
       "policy_code                     1.00      1.00      1.0000        1.00  \n",
       "acc_now_delinq                  0.00      0.00      0.0000        0.00  \n",
       "chargeoff_within_12_mths        0.00      0.00      0.0000        0.00  \n",
       "delinq_amnt                     0.00      0.00      0.0000        0.00  \n",
       "pub_rec_bankruptcies            0.00      0.00      0.0000        2.00  \n",
       "tax_liens                       0.00      0.00      0.0000        0.00  "
      ]
     },
     "execution_count": 34,
     "metadata": {},
     "output_type": "execute_result"
    }
   ],
   "source": [
    "df.describe().transpose()"
   ]
  },
  {
   "cell_type": "markdown",
   "metadata": {},
   "source": [
    "The overall default rate based on loan status as 'Charged Off' is about ~14.4% based on above table"
   ]
  },
  {
   "cell_type": "code",
   "execution_count": 35,
   "metadata": {},
   "outputs": [
    {
     "data": {
      "image/png": "[encoded data removed]",
      "text/plain": [
       "<Figure size 720x576 with 1 Axes>"
      ]
     },
     "metadata": {
      "needs_background": "light"
     },
     "output_type": "display_data"
    }
   ],
   "source": [
    "#loan amount distribution\n",
    "plt.figure(figsize=(10,8))\n",
    "sns.distplot(loan.loan_amnt)\n",
    "plt.xlabel('Loan Amount')\n",
    "plt.ylabel('Frequency')\n",
    "plt.title('P1: Loan amount distribution')\n",
    "plt.show()"
   ]
  },
  {
   "cell_type": "markdown",
   "metadata": {},
   "source": [
    "Now, Let's visualise the average default rates across categorical variables.\n"
   ]
  },
  {
   "cell_type": "code",
   "execution_count": 36,
   "metadata": {},
   "outputs": [
    {
     "data": {
      "image/png": "[encoded data removed]",
      "text/plain": [
       "<Figure size 576x432 with 1 Axes>"
      ]
     },
     "metadata": {
      "needs_background": "light"
     },
     "output_type": "display_data"
    }
   ],
   "source": [
    "# Ploting the percentage of Full paid vs Charged Off\n",
    "plt.figure(figsize=(8,6))\n",
    "df.groupby('loan_status').index.count().plot.bar()\n",
    "plt.title('P2: Full paid vs Charged Off')\n",
    "plt.xlabel(\"Loan Status [0: Fully Paid, 1: Charged Off]\")\n",
    "plt.ylabel(\"Loan Application\")\n",
    "plt.show()"
   ]
  },
  {
   "cell_type": "markdown",
   "metadata": {},
   "source": [
    "### 4.2 Univariate Analysis - Loan Characteristics/Applicant Variables\n",
    "\n",
    "- To check the default rate across various features\n",
    "\n",
    "    -Loan Characteristics\n",
    "        -Grade\n",
    "        -Subgrade\n",
    "        -Term\n",
    "        -Verification status\n",
    "        -Purpose\n",
    "        -Year/Moth\n",
    "        -Amount\n",
    "        -Interest Rate\n",
    "        -Installment\n",
    "    -Applicant Variables\n",
    "        -Home ownership\n",
    "        -DTI\n",
    "        -Annual Income\n",
    "        -Work Experience\n",
    "- For continous varibles binning is done for univariate analysis \n",
    "- Considered only data set for 'Fully paid' and 'Chanrged Off'. Loan status with 'Current' is excluded from analysis\n",
    "- Customer behaviour vartiables like delinq 2 yrs are excluded from analysis due to the fact that at the time of loan application these variables are not available normally"
   ]
  },
  {
   "cell_type": "code",
   "execution_count": 37,
   "metadata": {},
   "outputs": [],
   "source": [
    "# defining a function to plot loan_status across categorical variables\n",
    "def plot_cat(cat_var, sOrder, xLabel, sTitle, sLegend, sRot):\n",
    "    plt.figure(figsize=(12,10))\n",
    "    plt.title(sTitle)\n",
    "    sns.barplot(x=cat_var, y='loan_status', data=df,order=sOrder)\n",
    "    plt.ylabel('Loan Default Rate')\n",
    "    plt.xlabel(xLabel)\n",
    "    plt.legend(sLegend)\n",
    "    plt.xticks(rotation=sRot)\n",
    "    plt.show()\n",
    "    print(results)"
   ]
  },
  {
   "cell_type": "markdown",
   "metadata": {},
   "source": [
    "#### 4.2.1 Loan characteristics analysis"
   ]
  },
  {
   "cell_type": "code",
   "execution_count": 38,
   "metadata": {},
   "outputs": [
    {
     "data": {
      "image/png": "[encoded data removed]",
      "text/plain": [
       "<Figure size 864x720 with 1 Axes>"
      ]
     },
     "metadata": {
      "needs_background": "light"
     },
     "output_type": "display_data"
    },
    {
     "name": "stdout",
     "output_type": "stream",
     "text": [
      "  grade  loan_status\n",
      "0     A     0.057764\n",
      "1     B     0.119289\n",
      "2     C     0.167949\n",
      "3     D     0.217915\n",
      "4     E     0.267176\n",
      "5     F     0.326382\n",
      "6     G     0.335570\n"
     ]
    }
   ],
   "source": [
    "#lets plot loan grade for \n",
    "results = df.groupby('grade').loan_status.aggregate(np.mean).reset_index().sort_values('loan_status', ascending=True)\n",
    "plot_cat('grade',results.grade,'Loan Grade','P3: Loan grade - Default Rate',{},0)\n"
   ]
  },
  {
   "cell_type": "markdown",
   "metadata": {},
   "source": [
    "**Observation:**\n",
    "- Clearly, as the grade of loan goes from A to G, the default rate increases. This is expected because the grade is decided by Lending Club based on the riskiness of the loan. "
   ]
  },
  {
   "cell_type": "code",
   "execution_count": 39,
   "metadata": {
    "scrolled": false
   },
   "outputs": [
    {
     "data": {
      "image/png": "[encoded data removed]",
      "text/plain": [
       "<Figure size 864x720 with 1 Axes>"
      ]
     },
     "metadata": {
      "needs_background": "light"
     },
     "output_type": "display_data"
    },
    {
     "name": "stdout",
     "output_type": "stream",
     "text": [
      "   sub_grade  loan_status\n",
      "0         A1     0.022814\n",
      "1         A2     0.047189\n",
      "2         A3     0.051694\n",
      "3         A4     0.060172\n",
      "4         A5     0.078967\n",
      "5         B1     0.089431\n",
      "6         B2     0.108539\n",
      "7         B3     0.118718\n",
      "8         B4     0.133166\n",
      "9         B5     0.135209\n",
      "10        C1     0.158888\n",
      "11        C2     0.161664\n",
      "13        C4     0.172619\n",
      "14        C5     0.177362\n",
      "12        C3     0.177641\n",
      "15        D1     0.177948\n",
      "16        D2     0.207968\n",
      "22        E3     0.228175\n",
      "17        D3     0.228440\n",
      "18        D4     0.229834\n",
      "33        G4     0.240741\n",
      "19        D5     0.250923\n",
      "21        E2     0.267769\n",
      "20        E1     0.271449\n",
      "24        E5     0.278215\n",
      "27        F3     0.290698\n",
      "25        F1     0.295681\n",
      "23        E4     0.295943\n",
      "26        F2     0.298246\n",
      "30        G1     0.322581\n",
      "34        G5     0.344828\n",
      "28        F4     0.358108\n",
      "31        G2     0.363636\n",
      "32        G3     0.422222\n",
      "29        F5     0.481818\n"
     ]
    }
   ],
   "source": [
    "#  compare default rates across sub-grade of loan\n",
    "results = df.groupby('sub_grade').loan_status.aggregate(np.mean).reset_index().sort_values('loan_status', ascending=True)\n",
    "plot_cat('sub_grade',results.sub_grade,'Loan sub grade','P4: Loan sub-grade - Default Rate',{},0)"
   ]
  },
  {
   "cell_type": "markdown",
   "metadata": {},
   "source": [
    "**Observation:**\n",
    "- As the sub_grade incrases from A1 to A4 (and likewise ex: G1 to G5), the loan default rate increases. "
   ]
  },
  {
   "cell_type": "code",
   "execution_count": 40,
   "metadata": {
    "scrolled": false
   },
   "outputs": [
    {
     "data": {
      "image/png": "[encoded data removed]",
      "text/plain": [
       "<Figure size 864x720 with 1 Axes>"
      ]
     },
     "metadata": {
      "needs_background": "light"
     },
     "output_type": "display_data"
    },
    {
     "name": "stdout",
     "output_type": "stream",
     "text": [
      "         term  loan_status\n",
      "0   36 months     0.108636\n",
      "1   60 months     0.251269\n"
     ]
    }
   ],
   "source": [
    "# plotting default loan against Loan term\n",
    "results = df.groupby('term').loan_status.aggregate(np.mean).reset_index().sort_values('loan_status', ascending=True)\n",
    "plot_cat('term',results.term,'Loan Term','P5: Loan Term - Default Rate',{},0)"
   ]
  },
  {
   "cell_type": "markdown",
   "metadata": {},
   "source": [
    "**Observation:**\n",
    "- 60 month loan term is more likely to default "
   ]
  },
  {
   "cell_type": "code",
   "execution_count": 41,
   "metadata": {
    "scrolled": false
   },
   "outputs": [
    {
     "data": {
      "image/png": "[encoded data removed]",
      "text/plain": [
       "<Figure size 864x720 with 1 Axes>"
      ]
     },
     "metadata": {
      "needs_background": "light"
     },
     "output_type": "display_data"
    },
    {
     "name": "stdout",
     "output_type": "stream",
     "text": [
      "  verification_status  loan_status\n",
      "0        Not Verified     0.125875\n",
      "1     Source Verified     0.147040\n",
      "2            Verified     0.165987\n"
     ]
    }
   ],
   "source": [
    "# plotting default loan against Verification Status\n",
    "results = df.groupby('verification_status').loan_status.aggregate(np.mean).reset_index().sort_values('loan_status', ascending=True)\n",
    "plot_cat('verification_status',results.verification_status,'Loan verification status','P6: Loan verification status - Default Rate',{},0)"
   ]
  },
  {
   "cell_type": "markdown",
   "metadata": {},
   "source": [
    "**Observation:**\n",
    "- Verfied loans are slightly more likely to deafult."
   ]
  },
  {
   "cell_type": "code",
   "execution_count": 42,
   "metadata": {
    "scrolled": false
   },
   "outputs": [
    {
     "data": {
      "image/png": "[encoded data removed]",
      "text/plain": [
       "<Figure size 864x720 with 1 Axes>"
      ]
     },
     "metadata": {
      "needs_background": "light"
     },
     "output_type": "display_data"
    },
    {
     "name": "stdout",
     "output_type": "stream",
     "text": [
      "               purpose  loan_status\n",
      "13             wedding     0.100767\n",
      "6       major_purchase     0.101442\n",
      "1          credit_card     0.104103\n",
      "0                  car     0.107044\n",
      "4     home_improvement     0.118492\n",
      "12            vacation     0.143678\n",
      "2   debt_consolidation     0.151570\n",
      "8               moving     0.152174\n",
      "7              medical     0.153963\n",
      "9                other     0.160517\n",
      "3          educational     0.164038\n",
      "5                house     0.166667\n",
      "10    renewable_energy     0.191489\n",
      "11      small_business     0.270175\n"
     ]
    }
   ],
   "source": [
    "# plotting default loan against Loan Purpose\n",
    "results = df.groupby('purpose').loan_status.aggregate(np.mean).reset_index().sort_values('loan_status', ascending=True)\n",
    "plot_cat('purpose',results.purpose,'Loan purpose','P7: Loan purpose - Default Rate',{},90)"
   ]
  },
  {
   "cell_type": "code",
   "execution_count": 43,
   "metadata": {
    "scrolled": true
   },
   "outputs": [
    {
     "data": {
      "text/html": [
       "<div>\n",
       "<style scoped>\n",
       "    .dataframe tbody tr th:only-of-type {\n",
       "        vertical-align: middle;\n",
       "    }\n",
       "\n",
       "    .dataframe tbody tr th {\n",
       "        vertical-align: top;\n",
       "    }\n",
       "\n",
       "    .dataframe thead th {\n",
       "        text-align: right;\n",
       "    }\n",
       "</style>\n",
       "<table border=\"1\" class=\"dataframe\">\n",
       "  <thead>\n",
       "    <tr style=\"text-align: right;\">\n",
       "      <th></th>\n",
       "      <th>purpose</th>\n",
       "      <th>loan_status</th>\n",
       "    </tr>\n",
       "  </thead>\n",
       "  <tbody>\n",
       "    <tr>\n",
       "      <th>11</th>\n",
       "      <td>small_business</td>\n",
       "      <td>0.270175</td>\n",
       "    </tr>\n",
       "    <tr>\n",
       "      <th>10</th>\n",
       "      <td>renewable_energy</td>\n",
       "      <td>0.191489</td>\n",
       "    </tr>\n",
       "    <tr>\n",
       "      <th>5</th>\n",
       "      <td>house</td>\n",
       "      <td>0.166667</td>\n",
       "    </tr>\n",
       "    <tr>\n",
       "      <th>3</th>\n",
       "      <td>educational</td>\n",
       "      <td>0.164038</td>\n",
       "    </tr>\n",
       "    <tr>\n",
       "      <th>9</th>\n",
       "      <td>other</td>\n",
       "      <td>0.160517</td>\n",
       "    </tr>\n",
       "    <tr>\n",
       "      <th>7</th>\n",
       "      <td>medical</td>\n",
       "      <td>0.153963</td>\n",
       "    </tr>\n",
       "    <tr>\n",
       "      <th>8</th>\n",
       "      <td>moving</td>\n",
       "      <td>0.152174</td>\n",
       "    </tr>\n",
       "    <tr>\n",
       "      <th>2</th>\n",
       "      <td>debt_consolidation</td>\n",
       "      <td>0.151570</td>\n",
       "    </tr>\n",
       "    <tr>\n",
       "      <th>12</th>\n",
       "      <td>vacation</td>\n",
       "      <td>0.143678</td>\n",
       "    </tr>\n",
       "    <tr>\n",
       "      <th>4</th>\n",
       "      <td>home_improvement</td>\n",
       "      <td>0.118492</td>\n",
       "    </tr>\n",
       "    <tr>\n",
       "      <th>0</th>\n",
       "      <td>car</td>\n",
       "      <td>0.107044</td>\n",
       "    </tr>\n",
       "    <tr>\n",
       "      <th>1</th>\n",
       "      <td>credit_card</td>\n",
       "      <td>0.104103</td>\n",
       "    </tr>\n",
       "    <tr>\n",
       "      <th>6</th>\n",
       "      <td>major_purchase</td>\n",
       "      <td>0.101442</td>\n",
       "    </tr>\n",
       "    <tr>\n",
       "      <th>13</th>\n",
       "      <td>wedding</td>\n",
       "      <td>0.100767</td>\n",
       "    </tr>\n",
       "  </tbody>\n",
       "</table>\n",
       "</div>"
      ],
      "text/plain": [
       "               purpose  loan_status\n",
       "11      small_business     0.270175\n",
       "10    renewable_energy     0.191489\n",
       "5                house     0.166667\n",
       "3          educational     0.164038\n",
       "9                other     0.160517\n",
       "7              medical     0.153963\n",
       "8               moving     0.152174\n",
       "2   debt_consolidation     0.151570\n",
       "12            vacation     0.143678\n",
       "4     home_improvement     0.118492\n",
       "0                  car     0.107044\n",
       "1          credit_card     0.104103\n",
       "6       major_purchase     0.101442\n",
       "13             wedding     0.100767"
      ]
     },
     "execution_count": 43,
     "metadata": {},
     "output_type": "execute_result"
    }
   ],
   "source": [
    "results.sort_values('loan_status',ascending=False)"
   ]
  },
  {
   "cell_type": "code",
   "execution_count": 44,
   "metadata": {
    "scrolled": false
   },
   "outputs": [
    {
     "data": {
      "text/plain": [
       "debt_consolidation    17675\n",
       "credit_card            4899\n",
       "other                  3713\n",
       "home_improvement       2785\n",
       "major_purchase         2080\n",
       "small_business         1710\n",
       "car                    1448\n",
       "wedding                 913\n",
       "medical                 656\n",
       "moving                  552\n",
       "house                   354\n",
       "vacation                348\n",
       "educational             317\n",
       "renewable_energy         94\n",
       "Name: purpose, dtype: int64"
      ]
     },
     "execution_count": 44,
     "metadata": {},
     "output_type": "execute_result"
    }
   ],
   "source": [
    "df.purpose.value_counts()"
   ]
  },
  {
   "cell_type": "code",
   "execution_count": 45,
   "metadata": {},
   "outputs": [
    {
     "data": {
      "image/png": "[encoded data removed]",
      "text/plain": [
       "<Figure size 432x288 with 1 Axes>"
      ]
     },
     "metadata": {
      "needs_background": "light"
     },
     "output_type": "display_data"
    }
   ],
   "source": [
    "# plotting number of loans by purpose \n",
    "sns.countplot(x=df['purpose'])\n",
    "plt.title('P8: No. of Loans for 5 Major Purpose ')\n",
    "plt.xticks(rotation=90)\n",
    "plt.show()"
   ]
  },
  {
   "cell_type": "code",
   "execution_count": 46,
   "metadata": {
    "scrolled": true
   },
   "outputs": [],
   "source": [
    "# filtering the df for the 4 types of loans mentioned above\n",
    "purpose_top5 = df['purpose'].value_counts().head(5).index"
   ]
  },
  {
   "cell_type": "markdown",
   "metadata": {},
   "source": [
    "**Observation:**\n",
    "- Loan taken for Small business is more likely to default \n"
   ]
  },
  {
   "cell_type": "code",
   "execution_count": 47,
   "metadata": {},
   "outputs": [
    {
     "data": {
      "text/plain": [
       "0    Dec-11\n",
       "1    Dec-11\n",
       "2    Dec-11\n",
       "3    Dec-11\n",
       "5    Dec-11\n",
       "Name: issue_d, dtype: object"
      ]
     },
     "execution_count": 47,
     "metadata": {},
     "output_type": "execute_result"
    }
   ],
   "source": [
    "# Creating Date derived variable\n",
    "# then we will observe the distribution of loans across years\n",
    "# converting the year column into datetime and then extract year and month from it\n",
    "df['issue_d'].head()"
   ]
  },
  {
   "cell_type": "code",
   "execution_count": 48,
   "metadata": {},
   "outputs": [],
   "source": [
    "from datetime import datetime\n",
    "df['issue_d'] = df['issue_d'].apply(lambda x: datetime.strptime(x, '%b-%y'))"
   ]
  },
  {
   "cell_type": "code",
   "execution_count": 49,
   "metadata": {},
   "outputs": [],
   "source": [
    "# extracting month and year from issue_date\n",
    "df['month'] = df['issue_d'].apply(lambda x: x.month)\n",
    "df['year'] = df['issue_d'].apply(lambda x: x.year)"
   ]
  },
  {
   "cell_type": "code",
   "execution_count": 50,
   "metadata": {},
   "outputs": [
    {
     "data": {
      "text/plain": [
       "year\n",
       "2007      251\n",
       "2008     1562\n",
       "2009     4716\n",
       "2010    11214\n",
       "2011    19801\n",
       "Name: year, dtype: int64"
      ]
     },
     "execution_count": 50,
     "metadata": {},
     "output_type": "execute_result"
    }
   ],
   "source": [
    "# let's first observe the number of loans granted across years\n",
    "df.groupby('year').year.count()"
   ]
  },
  {
   "cell_type": "markdown",
   "metadata": {},
   "source": [
    "We can see that the number of loans has increased steadily across years. "
   ]
  },
  {
   "cell_type": "code",
   "execution_count": 51,
   "metadata": {},
   "outputs": [
    {
     "data": {
      "text/plain": [
       "month\n",
       "1     2331\n",
       "2     2278\n",
       "3     2632\n",
       "4     2756\n",
       "5     2838\n",
       "6     3094\n",
       "7     3253\n",
       "8     3321\n",
       "9     3394\n",
       "10    3637\n",
       "11    3890\n",
       "12    4120\n",
       "Name: month, dtype: int64"
      ]
     },
     "execution_count": 51,
     "metadata": {},
     "output_type": "execute_result"
    }
   ],
   "source": [
    "# number of loans across months\n",
    "df.groupby('month').month.count()"
   ]
  },
  {
   "cell_type": "markdown",
   "metadata": {},
   "source": [
    "Most loans are granted in December, and in general in the latter half of the year."
   ]
  },
  {
   "cell_type": "code",
   "execution_count": 52,
   "metadata": {
    "scrolled": false
   },
   "outputs": [
    {
     "data": {
      "image/png": "[encoded data removed]",
      "text/plain": [
       "<Figure size 864x720 with 1 Axes>"
      ]
     },
     "metadata": {
      "needs_background": "light"
     },
     "output_type": "display_data"
    },
    {
     "name": "stdout",
     "output_type": "stream",
     "text": [
      "   year  loan_status\n",
      "0  2007     0.179283\n",
      "1  2008     0.158131\n",
      "2  2009     0.125954\n",
      "3  2010     0.125825\n",
      "4  2011     0.156659\n"
     ]
    }
   ],
   "source": [
    "# lets compare the default rates across years\n",
    "results = df.groupby('year').loan_status.aggregate(np.mean).reset_index().sort_values('year', ascending=True)\n",
    "plot_cat('year',results.year,'Loan year','P9: Loan year - Default Rate',{},0)"
   ]
  },
  {
   "cell_type": "code",
   "execution_count": 53,
   "metadata": {},
   "outputs": [
    {
     "data": {
      "text/plain": [
       "2011    19801\n",
       "2010    11214\n",
       "2009     4716\n",
       "2008     1562\n",
       "2007      251\n",
       "Name: year, dtype: int64"
      ]
     },
     "execution_count": 53,
     "metadata": {},
     "output_type": "execute_result"
    }
   ],
   "source": [
    "df.year.value_counts()"
   ]
  },
  {
   "cell_type": "code",
   "execution_count": 54,
   "metadata": {},
   "outputs": [
    {
     "data": {
      "text/plain": [
       "12    4120\n",
       "11    3890\n",
       "10    3637\n",
       "9     3394\n",
       "8     3321\n",
       "7     3253\n",
       "6     3094\n",
       "5     2838\n",
       "4     2756\n",
       "3     2632\n",
       "1     2331\n",
       "2     2278\n",
       "Name: month, dtype: int64"
      ]
     },
     "execution_count": 54,
     "metadata": {},
     "output_type": "execute_result"
    }
   ],
   "source": [
    "df.month.value_counts()"
   ]
  },
  {
   "cell_type": "markdown",
   "metadata": {},
   "source": [
    "**Observation:**\n",
    "- The default rate was higher in 2007 and it was reducing from 2008 till 2010. However, The default rate had suddenly increased in 2011.\n"
   ]
  },
  {
   "cell_type": "code",
   "execution_count": 55,
   "metadata": {},
   "outputs": [
    {
     "data": {
      "image/png": "[encoded data removed]",
      "text/plain": [
       "<Figure size 864x720 with 1 Axes>"
      ]
     },
     "metadata": {
      "needs_background": "light"
     },
     "output_type": "display_data"
    },
    {
     "name": "stdout",
     "output_type": "stream",
     "text": [
      "    month  loan_status\n",
      "0       1     0.132990\n",
      "1       2     0.116769\n",
      "2       3     0.128799\n",
      "3       4     0.129173\n",
      "4       5     0.156448\n",
      "5       6     0.148675\n",
      "6       7     0.142023\n",
      "7       8     0.137007\n",
      "8       9     0.155274\n",
      "9      10     0.152323\n",
      "10     11     0.146530\n",
      "11     12     0.159223\n"
     ]
    }
   ],
   "source": [
    "# comparing default rates across months\n",
    "results = df.groupby('month').loan_status.aggregate(np.mean).reset_index().sort_values('month', ascending=True)\n",
    "plot_cat('month',results.month,'Loan month','P10: Loan month - Default Rate',{},0)"
   ]
  },
  {
   "cell_type": "markdown",
   "metadata": {},
   "source": [
    "**Observation:**\n",
    "- The default rate is not showing much variation across months though its observed that month of december is having higher default rate which may be caused due to vacation time and x-max\n"
   ]
  },
  {
   "cell_type": "markdown",
   "metadata": {},
   "source": [
    "### Now analyse how the default rate varies across continuous variables."
   ]
  },
  {
   "cell_type": "markdown",
   "metadata": {},
   "source": [
    "The easiest way to analyse how default rates vary across continous variables is to bin the variables into discrete categories.\n",
    "\n",
    "so going to bin the loan amount variable into small, medium, high, very high."
   ]
  },
  {
   "cell_type": "code",
   "execution_count": 56,
   "metadata": {
    "scrolled": true
   },
   "outputs": [],
   "source": [
    "# Creating Derived categorical variable\n",
    "# binning loan amount\n",
    "df['loan_amnt'] = pd.cut(df['loan_amnt'],[0,5000,15000,25000,30000],labels=['Low','Medium','High','Very high'])"
   ]
  },
  {
   "cell_type": "code",
   "execution_count": 57,
   "metadata": {},
   "outputs": [
    {
     "data": {
      "text/plain": [
       "Medium       20003\n",
       "Low           9054\n",
       "High          7075\n",
       "Very high      692\n",
       "Name: loan_amnt, dtype: int64"
      ]
     },
     "execution_count": 57,
     "metadata": {},
     "output_type": "execute_result"
    }
   ],
   "source": [
    "df['loan_amnt'].value_counts()"
   ]
  },
  {
   "cell_type": "code",
   "execution_count": 58,
   "metadata": {
    "scrolled": false
   },
   "outputs": [
    {
     "data": {
      "image/png": "[encoded data removed]",
      "text/plain": [
       "<Figure size 864x720 with 1 Axes>"
      ]
     },
     "metadata": {
      "needs_background": "light"
     },
     "output_type": "display_data"
    },
    {
     "name": "stdout",
     "output_type": "stream",
     "text": [
      "   loan_amnt  loan_status\n",
      "0        Low     0.134858\n",
      "1     Medium     0.129631\n",
      "2       High     0.179364\n",
      "3  Very high     0.205202\n"
     ]
    }
   ],
   "source": [
    "# let's compare the default rates across loan amount type\n",
    "results = df.groupby('loan_amnt').loan_status.aggregate(np.mean).reset_index().sort_values('loan_amnt', ascending=True)\n",
    "plot_cat('loan_amnt',results.loan_amnt,'Loan Amount','P11: Loan Amount - Default Rate',{'Low: ~5k','Medium: 5k-15k','High: 15k-25k','Very high: 25k-30k'},0)"
   ]
  },
  {
   "cell_type": "markdown",
   "metadata": {},
   "source": [
    "**Observation:**\n",
    "- Higher the loan amount, higher the default rate\n"
   ]
  },
  {
   "cell_type": "code",
   "execution_count": 59,
   "metadata": {},
   "outputs": [],
   "source": [
    "# Creating Derived variable\n",
    "# lets also convert interest rate to low, medium, high\n",
    "# binning loan amount\n",
    "df['int_rate']=pd.cut(df['int_rate'],[0,10,15,20],labels=['Low','Medium','High'])"
   ]
  },
  {
   "cell_type": "code",
   "execution_count": 60,
   "metadata": {
    "scrolled": false
   },
   "outputs": [
    {
     "data": {
      "image/png": "[encoded data removed]",
      "text/plain": [
       "<Figure size 864x720 with 1 Axes>"
      ]
     },
     "metadata": {
      "needs_background": "light"
     },
     "output_type": "display_data"
    },
    {
     "name": "stdout",
     "output_type": "stream",
     "text": [
      "  int_rate  loan_status\n",
      "0      Low     0.064475\n",
      "1   Medium     0.145470\n",
      "2     High     0.246676\n"
     ]
    }
   ],
   "source": [
    "# comparing default rates across rates of interest\n",
    "results = df.groupby('int_rate').loan_status.aggregate(np.mean).reset_index().sort_values('int_rate', ascending=True)\n",
    "plot_cat('int_rate',results.int_rate,'Loan Interest Rate','P12: Loan Interest Rate - Default Rate',{'Low: ~10%','Medium: 10-15%','High: 15-20%'},0)"
   ]
  },
  {
   "cell_type": "markdown",
   "metadata": {},
   "source": [
    "**Observation:**\n",
    "- High interest rates default more, as expected\n"
   ]
  },
  {
   "cell_type": "code",
   "execution_count": 61,
   "metadata": {},
   "outputs": [],
   "source": [
    "df['installment']=pd.cut(df['installment'], [0,200,400,600,800], labels=[\"Low\",\"Medium\",\"High\",\"Very high\"])"
   ]
  },
  {
   "cell_type": "code",
   "execution_count": 62,
   "metadata": {
    "scrolled": false
   },
   "outputs": [
    {
     "data": {
      "image/png": "[encoded data removed]",
      "text/plain": [
       "<Figure size 864x720 with 1 Axes>"
      ]
     },
     "metadata": {
      "needs_background": "light"
     },
     "output_type": "display_data"
    },
    {
     "name": "stdout",
     "output_type": "stream",
     "text": [
      "  installment  loan_status\n",
      "0         Low     0.135523\n",
      "1      Medium     0.138013\n",
      "2        High     0.158718\n",
      "3   Very high     0.161861\n"
     ]
    }
   ],
   "source": [
    "# comparing default rates across installment\n",
    "results = df.groupby('installment').loan_status.aggregate(np.mean).reset_index().sort_values('installment', ascending=True)\n",
    "plot_cat('installment',results.installment,'P13: Loan installment','Loan installment - Default Rate',{'Low: ~200','Medium: 200-400','High: 400-600','Very high: 600-800'},0)"
   ]
  },
  {
   "cell_type": "markdown",
   "metadata": {},
   "source": [
    "**Observation:**\n",
    "- The higher the installment amount, the higher the default rate\n"
   ]
  },
  {
   "cell_type": "markdown",
   "metadata": {},
   "source": [
    "#### 4.2.2 Applicant variable analysis"
   ]
  },
  {
   "cell_type": "code",
   "execution_count": 63,
   "metadata": {
    "scrolled": false
   },
   "outputs": [
    {
     "data": {
      "image/png": "[encoded data removed]",
      "text/plain": [
       "<Figure size 864x720 with 1 Axes>"
      ]
     },
     "metadata": {
      "needs_background": "light"
     },
     "output_type": "display_data"
    },
    {
     "name": "stdout",
     "output_type": "stream",
     "text": [
      "  home_ownership  loan_status\n",
      "1           NONE     0.000000\n",
      "0       MORTGAGE     0.135282\n",
      "3            OWN     0.144404\n",
      "4           RENT     0.151344\n",
      "2          OTHER     0.183673\n"
     ]
    }
   ],
   "source": [
    "# plotting default loan against Home ownership\n",
    "results = df.groupby('home_ownership').loan_status.aggregate(np.mean).reset_index().sort_values('loan_status', ascending=True)\n",
    "plot_cat('home_ownership',results.home_ownership,'Consumer Home Ownership','P14: Consumer Home Ownership - Default Rate',{},0)"
   ]
  },
  {
   "cell_type": "markdown",
   "metadata": {},
   "source": [
    "**Observation:**\n",
    "- doesn't seems to haver an impact as bar height is almost similar for Rent and Own category"
   ]
  },
  {
   "cell_type": "code",
   "execution_count": 64,
   "metadata": {},
   "outputs": [],
   "source": [
    "# Creating Derived categorical variable for debt to income ratio\n",
    "df['dti']=pd.cut(df['dti'],[0,10,15,20],labels=['Low','Medium','High'])"
   ]
  },
  {
   "cell_type": "code",
   "execution_count": 65,
   "metadata": {},
   "outputs": [
    {
     "data": {
      "image/png": "[encoded data removed]",
      "text/plain": [
       "<Figure size 864x720 with 1 Axes>"
      ]
     },
     "metadata": {
      "needs_background": "light"
     },
     "output_type": "display_data"
    },
    {
     "name": "stdout",
     "output_type": "stream",
     "text": [
      "      dti  loan_status\n",
      "0     Low     0.124424\n",
      "1  Medium     0.143283\n",
      "2    High     0.155796\n"
     ]
    }
   ],
   "source": [
    "# comparing default rates across debt to income ratio\n",
    "results = df.groupby('dti').loan_status.aggregate(np.mean).reset_index().sort_values('dti', ascending=True)\n",
    "plot_cat('dti',results.dti,'Loan DTI','P15: Loan DTI - Default Rate',{'Low: ~10.0','Medium: 10.0-15.0','High: 15.0-20.0'},0)"
   ]
  },
  {
   "cell_type": "markdown",
   "metadata": {},
   "source": [
    "**Observation:**|\n",
    "- High dti translates into higher default rates, as expected\n"
   ]
  },
  {
   "cell_type": "code",
   "execution_count": 66,
   "metadata": {},
   "outputs": [],
   "source": [
    "df['annual_inc']=pd.cut(df['annual_inc'], [0,50000,100000,150000,200000], labels=[\"Low\",\"Medium\",\"High\",\"Very high\"])"
   ]
  },
  {
   "cell_type": "code",
   "execution_count": 67,
   "metadata": {},
   "outputs": [
    {
     "data": {
      "image/png": "[encoded data removed]",
      "text/plain": [
       "<Figure size 864x720 with 1 Axes>"
      ]
     },
     "metadata": {
      "needs_background": "light"
     },
     "output_type": "display_data"
    },
    {
     "name": "stdout",
     "output_type": "stream",
     "text": [
      "  annual_inc  loan_status\n",
      "0        Low     0.166099\n",
      "1     Medium     0.136064\n",
      "2       High     0.108251\n",
      "3  Very high     0.111233\n"
     ]
    }
   ],
   "source": [
    "# annual income and default rate\n",
    "results = df.groupby('annual_inc').loan_status.aggregate(np.mean).reset_index().sort_values('annual_inc', ascending=True)\n",
    "plot_cat('annual_inc',results.annual_inc,'Consumer annual income','P16: Consumer annual income - Default Rate',{'Low: ~50k','Medium: 50k-100k','High: 100k-150k','Very high: 150k-200k'},0)"
   ]
  },
  {
   "cell_type": "markdown",
   "metadata": {},
   "source": [
    "**Observation:**\n",
    "- Lower the annual income, higher the default rate\n"
   ]
  },
  {
   "cell_type": "code",
   "execution_count": 68,
   "metadata": {},
   "outputs": [],
   "source": [
    "# first, let's drop the missing value observations in emp length\n",
    "df = df[~df['emp_length'].isnull()]\n",
    "df['emp_length']=pd.cut(df['emp_length'], [0,1,3,7,10], labels=[\"Fresher\",\"Junior\",\"Mid-Range\",\"Senior\"])"
   ]
  },
  {
   "cell_type": "code",
   "execution_count": 69,
   "metadata": {
    "scrolled": false
   },
   "outputs": [
    {
     "data": {
      "image/png": "[encoded data removed]",
      "text/plain": [
       "<Figure size 864x720 with 1 Axes>"
      ]
     },
     "metadata": {
      "needs_background": "light"
     },
     "output_type": "display_data"
    },
    {
     "name": "stdout",
     "output_type": "stream",
     "text": [
      "  emp_length  loan_status\n",
      "0    Fresher     0.142634\n",
      "1     Junior     0.135132\n",
      "2  Mid-Range     0.143063\n",
      "3     Senior     0.151762\n"
     ]
    }
   ],
   "source": [
    "# emp_length and default rate\n",
    "results = df.groupby('emp_length').loan_status.aggregate(np.mean).reset_index().sort_values('emp_length', ascending=True)\n",
    "plot_cat('emp_length',results.emp_length,'Consumer work experience','P17: Consumer work experience - Default Rate',{'Freshers: 0-1 yrs exp','Junior: 1-3 yrs exp','Mid-Range: 3-7 yrs exp','Senior: 7+ yrs exp'},0)"
   ]
  },
  {
   "cell_type": "markdown",
   "metadata": {},
   "source": [
    "**Observation:**\n",
    "- Not much difference but 10+ years of exp. people are more likely to dafault.\n"
   ]
  },
  {
   "cell_type": "markdown",
   "metadata": {},
   "source": [
    "### 4.3 Bi-variate Analysis and Segmented Analysis to identify factors\n",
    "\n",
    "By now we have compared the default rates across various variables, and some of the important predictors are purpose of the loan, interest rate, annual income, grade etc.\n",
    "\n",
    "Now, have a look at the default rates across the purpose of the loan.\n",
    "\n",
    "In the upcoming analyses, we will segment the loan applications across the purpose of the loan, since that is a variable affecting many other variables - the type of applicant, interest rate, income, and finally the default rate.\n",
    "\n",
    "so, first look at the number of loans for each type (purpose) of the loan most loans are debt consolidation (to repay other debts), then credit card, major purchase etc.\n",
    "\n",
    "Now, analyse the top 5 types of loans based on purpose: consolidation, credit card, home improvement and major purchase.\n"
   ]
  },
  {
   "cell_type": "code",
   "execution_count": 70,
   "metadata": {},
   "outputs": [],
   "source": [
    "df = df[df['purpose'].isin(purpose_top5)]"
   ]
  },
  {
   "cell_type": "code",
   "execution_count": 71,
   "metadata": {
    "scrolled": false
   },
   "outputs": [],
   "source": [
    "# function which takes a categorical variable and plots the default rate\n",
    "def plot_segmented(cat_var, sOrder, xLabel, sTitle, sRot):\n",
    "    plt.figure(figsize=(12,10))\n",
    "    plt.title(sTitle)\n",
    "    sns.barplot(x=cat_var, y='loan_status', hue='purpose', data=df,order=sOrder)\n",
    "    plt.ylabel('Loan Default Rate')\n",
    "    plt.xlabel(xLabel)\n",
    "    plt.xticks(rotation=sRot)\n",
    "    plt.show()\n",
    "    print(results)"
   ]
  },
  {
   "cell_type": "markdown",
   "metadata": {},
   "source": [
    "#### 4.3.1 Loan characteristics analysis"
   ]
  },
  {
   "cell_type": "code",
   "execution_count": 72,
   "metadata": {
    "scrolled": false
   },
   "outputs": [
    {
     "data": {
      "image/png": "[encoded data removed]",
      "text/plain": [
       "<Figure size 864x720 with 1 Axes>"
      ]
     },
     "metadata": {
      "needs_background": "light"
     },
     "output_type": "display_data"
    },
    {
     "name": "stdout",
     "output_type": "stream",
     "text": [
      "  grade  loan_status\n",
      "0     A     0.055534\n",
      "1     B     0.110654\n",
      "2     C     0.162733\n",
      "3     D     0.212939\n",
      "4     E     0.263326\n",
      "5     F     0.321205\n",
      "6     G     0.303965\n"
     ]
    }
   ],
   "source": [
    "# comparing grade of loan \n",
    "results = df.groupby('grade').loan_status.aggregate(np.mean).reset_index().sort_values('grade', ascending=True)\n",
    "plot_segmented('grade',results.grade,'Loan grade','P18: Loan Grade vs Purpose - Default Rate',0)"
   ]
  },
  {
   "cell_type": "markdown",
   "metadata": {},
   "source": [
    "**Observation:**\n",
    "- The default rate of the Loan increases significantly for category 'Other' as grade decreases from A to G\n"
   ]
  },
  {
   "cell_type": "code",
   "execution_count": 73,
   "metadata": {
    "scrolled": false
   },
   "outputs": [
    {
     "data": {
      "image/png": "[encoded data removed]",
      "text/plain": [
       "<Figure size 864x720 with 1 Axes>"
      ]
     },
     "metadata": {
      "needs_background": "light"
     },
     "output_type": "display_data"
    },
    {
     "name": "stdout",
     "output_type": "stream",
     "text": [
      "         term  loan_status\n",
      "0   36 months     0.102959\n",
      "1   60 months     0.249607\n"
     ]
    }
   ],
   "source": [
    "results = df.groupby('term').loan_status.aggregate(np.mean).reset_index().sort_values('loan_status', ascending=True)\n",
    "plot_segmented('term',results.term,'Loan Term','P19: Loan Term vs Purpose - Default Rate',0)"
   ]
  },
  {
   "cell_type": "markdown",
   "metadata": {},
   "source": [
    "**Observation:**\n",
    "- The default rate of the Loan increases significantly for ALL4 pupose for loan term 60 months\n"
   ]
  },
  {
   "cell_type": "code",
   "execution_count": 74,
   "metadata": {
    "scrolled": false
   },
   "outputs": [
    {
     "data": {
      "image/png": "[encoded data removed]",
      "text/plain": [
       "<Figure size 864x720 with 1 Axes>"
      ]
     },
     "metadata": {
      "needs_background": "light"
     },
     "output_type": "display_data"
    },
    {
     "name": "stdout",
     "output_type": "stream",
     "text": [
      "  verification_status  loan_status\n",
      "0        Not Verified     0.121266\n",
      "1     Source Verified     0.143192\n",
      "2            Verified     0.159095\n"
     ]
    }
   ],
   "source": [
    "results = df.groupby('verification_status').loan_status.aggregate(np.mean).reset_index().sort_values('verification_status', ascending=True)\n",
    "plot_segmented('verification_status',results.verification_status,'Loan verification status','P20: Loan verification status vs Purpose - Default Rate',0)"
   ]
  },
  {
   "cell_type": "markdown",
   "metadata": {},
   "source": [
    "**Observation:**\n",
    "- Higher loan amounts are Verified more often.  \n",
    "- We already know that larger loans are less in number, but see a higher charge off rate.\n",
    "- This, combined with previous observation, explains why verfied loans see a higher rate of default. It's not the verified status per se, it's the fact that higher loan amounts are riskier and are also verified more often by Lending Club. "
   ]
  },
  {
   "cell_type": "code",
   "execution_count": 75,
   "metadata": {
    "scrolled": false
   },
   "outputs": [
    {
     "data": {
      "image/png": "[encoded data removed]",
      "text/plain": [
       "<Figure size 864x720 with 1 Axes>"
      ]
     },
     "metadata": {
      "needs_background": "light"
     },
     "output_type": "display_data"
    },
    {
     "name": "stdout",
     "output_type": "stream",
     "text": [
      "   year  loan_status\n",
      "0  2007     0.147368\n",
      "1  2008     0.156398\n",
      "2  2009     0.116631\n",
      "3  2010     0.121324\n",
      "4  2011     0.152437\n"
     ]
    }
   ],
   "source": [
    "results = df.groupby('year').loan_status.aggregate(np.mean).reset_index().sort_values('year', ascending=True)\n",
    "plot_segmented('year',results.year,'Loan year','P21: Loan year vs Purpose - Default Rate',0)"
   ]
  },
  {
   "cell_type": "code",
   "execution_count": 76,
   "metadata": {
    "scrolled": false
   },
   "outputs": [
    {
     "data": {
      "image/png": "[encoded data removed]",
      "text/plain": [
       "<Figure size 864x720 with 1 Axes>"
      ]
     },
     "metadata": {
      "needs_background": "light"
     },
     "output_type": "display_data"
    },
    {
     "name": "stdout",
     "output_type": "stream",
     "text": [
      "   loan_amnt  loan_status\n",
      "0        Low     0.132569\n",
      "1     Medium     0.124016\n",
      "2       High     0.172397\n",
      "3  Very high     0.193496\n"
     ]
    }
   ],
   "source": [
    "results = df.groupby('loan_amnt').loan_status.aggregate(np.mean).reset_index().sort_values('loan_amnt', ascending=True)\n",
    "plot_segmented('loan_amnt',results.loan_amnt,'Loan amount','P22: Loan amount vs Purpose - Default Rate',0)"
   ]
  },
  {
   "cell_type": "markdown",
   "metadata": {},
   "source": [
    "**Observation:**\n",
    "- As the loan amount incrases, default rate increases.Moreover, deafult rate for loan taken for credit card purpose increases significantly with loan amount."
   ]
  },
  {
   "cell_type": "code",
   "execution_count": 77,
   "metadata": {
    "scrolled": false
   },
   "outputs": [
    {
     "data": {
      "image/png": "[encoded data removed]",
      "text/plain": [
       "<Figure size 864x720 with 1 Axes>"
      ]
     },
     "metadata": {
      "needs_background": "light"
     },
     "output_type": "display_data"
    },
    {
     "name": "stdout",
     "output_type": "stream",
     "text": [
      "  int_rate  loan_status\n",
      "0      Low     0.061778\n",
      "1   Medium     0.138168\n",
      "2     High     0.242224\n"
     ]
    }
   ],
   "source": [
    "results = df.groupby('int_rate').loan_status.aggregate(np.mean).reset_index().sort_values('int_rate', ascending=True)\n",
    "plot_segmented('int_rate',results.int_rate,'Loan interest rate','P23: Loan interest rate vs Purpose - Default Rate',0)"
   ]
  },
  {
   "cell_type": "markdown",
   "metadata": {},
   "source": [
    "**Observation:**\n",
    "- As the intrest rate incrases, default rate increases.plus, deafult rate for loan taken for debt consolidation increases significantly with higher intrest rate."
   ]
  },
  {
   "cell_type": "code",
   "execution_count": 78,
   "metadata": {
    "scrolled": false
   },
   "outputs": [
    {
     "data": {
      "image/png": "[encoded data removed]",
      "text/plain": [
       "<Figure size 864x720 with 1 Axes>"
      ]
     },
     "metadata": {
      "needs_background": "light"
     },
     "output_type": "display_data"
    },
    {
     "name": "stdout",
     "output_type": "stream",
     "text": [
      "  installment  loan_status\n",
      "0         Low     0.132718\n",
      "1      Medium     0.133671\n",
      "2        High     0.151589\n",
      "3   Very high     0.147428\n"
     ]
    }
   ],
   "source": [
    "results = df.groupby('installment').loan_status.aggregate(np.mean).reset_index().sort_values('installment', ascending=True)\n",
    "plot_segmented('installment',results.installment,'Loan installment','P24: Loan intallment vs Purpose - Default Rate',0)"
   ]
  },
  {
   "cell_type": "markdown",
   "metadata": {},
   "source": [
    "**Observation:**\n",
    "- default rate for loan taken for debt consolidation is higher in all type of installment amount."
   ]
  },
  {
   "cell_type": "markdown",
   "metadata": {},
   "source": [
    "#### 4.3.2 Applicant variable analysis"
   ]
  },
  {
   "cell_type": "code",
   "execution_count": 79,
   "metadata": {
    "scrolled": false
   },
   "outputs": [
    {
     "data": {
      "image/png": "[encoded data removed]",
      "text/plain": [
       "<Figure size 864x720 with 1 Axes>"
      ]
     },
     "metadata": {
      "needs_background": "light"
     },
     "output_type": "display_data"
    },
    {
     "name": "stdout",
     "output_type": "stream",
     "text": [
      "  home_ownership  loan_status\n",
      "1           NONE     0.000000\n",
      "0       MORTGAGE     0.132287\n",
      "3            OWN     0.139475\n",
      "4           RENT     0.144903\n",
      "2          OTHER     0.157895\n"
     ]
    }
   ],
   "source": [
    "# comparing home ownership with respect to loan status\n",
    "results = df.groupby('home_ownership').loan_status.aggregate(np.mean).reset_index().sort_values('loan_status', ascending=True)\n",
    "plot_segmented('home_ownership',results.home_ownership,'Consumer home ownership','P25: Home ownership vs Purpose - Default Rate',0)"
   ]
  },
  {
   "cell_type": "markdown",
   "metadata": {},
   "source": [
    "**Observation:**\n",
    "- In general, debt consolidation loans have the highest default rates. Lets compare across other categories as well.\n"
   ]
  },
  {
   "cell_type": "code",
   "execution_count": 80,
   "metadata": {
    "scrolled": false
   },
   "outputs": [
    {
     "data": {
      "image/png": "[encoded data removed]",
      "text/plain": [
       "<Figure size 864x720 with 1 Axes>"
      ]
     },
     "metadata": {
      "needs_background": "light"
     },
     "output_type": "display_data"
    },
    {
     "name": "stdout",
     "output_type": "stream",
     "text": [
      "  emp_length  loan_status\n",
      "0    Fresher     0.135179\n",
      "1     Junior     0.130505\n",
      "2  Mid-Range     0.137867\n",
      "3     Senior     0.148156\n"
     ]
    }
   ],
   "source": [
    "# comparing emp_length w.r.t loan status\n",
    "results = df.groupby('emp_length').loan_status.aggregate(np.mean).reset_index().sort_values('emp_length', ascending=True)\n",
    "plot_segmented('emp_length',results.emp_length,'Consumer employee length','P26: Consumer employee length vs Purpose - Default Rate',0)"
   ]
  },
  {
   "cell_type": "markdown",
   "metadata": {},
   "source": [
    "**Observation:**\n",
    "- We have seen that employee with 10+ years of exp. default the most. However, loan taken for \"home improvement\" is defaulted most by employee with 0-1 year of exp.\n"
   ]
  },
  {
   "cell_type": "code",
   "execution_count": 81,
   "metadata": {},
   "outputs": [
    {
     "data": {
      "image/png": "[encoded data removed]",
      "text/plain": [
       "<Figure size 864x720 with 1 Axes>"
      ]
     },
     "metadata": {
      "needs_background": "light"
     },
     "output_type": "display_data"
    },
    {
     "name": "stdout",
     "output_type": "stream",
     "text": [
      "  annual_inc  loan_status\n",
      "0        Low     0.161328\n",
      "1     Medium     0.130861\n",
      "2       High     0.103427\n",
      "3  Very high     0.110381\n"
     ]
    }
   ],
   "source": [
    "# comparing annual income w.r.t loan status\n",
    "results = df.groupby('annual_inc').loan_status.aggregate(np.mean).reset_index().sort_values('annual_inc', ascending=True)\n",
    "plot_segmented('annual_inc',results.annual_inc,'Consumer annual income','P27: Consumer annual income vs Purpose - Default Rate',0)"
   ]
  },
  {
   "cell_type": "markdown",
   "metadata": {},
   "source": [
    "#### 4.3.3 Correlation matrix"
   ]
  },
  {
   "cell_type": "code",
   "execution_count": 82,
   "metadata": {
    "scrolled": false
   },
   "outputs": [
    {
     "data": {
      "image/png": "[encoded data removed]",
      "text/plain": [
       "<Figure size 1080x1080 with 2 Axes>"
      ]
     },
     "metadata": {
      "needs_background": "light"
     },
     "output_type": "display_data"
    }
   ],
   "source": [
    "plt.figure(figsize=(15,15))\n",
    "cont_var= ['loan_amnt','term','installment','int_rate','emp_length', 'annual_inc','dti',]\n",
    "corr = loan[cont_var].corr()\n",
    "sns.heatmap(corr, annot=True, center=0.5)\n",
    "plt.title('P28: Loan attribute correlation')\n",
    "plt.show()"
   ]
  },
  {
   "cell_type": "markdown",
   "metadata": {},
   "source": [
    "**Observation:**\n",
    "\n",
    "- loan_amnt is highely correlated to installment with factor 0.93, as expected\n",
    "- int_rate is correlated with loan_amount with factor 0.31\n",
    "- annual_inc is correlated with loan_amnt with factor 0.27\n",
    "- dti is negatively correlated to annual_inc with factor -0.12"
   ]
  },
  {
   "cell_type": "markdown",
   "metadata": {},
   "source": [
    "# Recommendations\n",
    "1. Stop giving loan for Small business,as its more likely to default.\n",
    "2. High interest rates default more. so it is advisable to give few loan at High interest to minimize the loss.\n",
    "3. The higher the installment amount, the higher the default rate, so \n",
    "4. Default rate is high for 60 months loan term, so it is good to not give many loans for long term. \n",
    "5. Debt consolidation loans have the highest default rates.\n",
    "\n",
    "For more Recommendations, please refer the PDF file."
   ]
  },
  {
   "cell_type": "markdown",
   "metadata": {},
   "source": [
    "# End of file"
   ]
  }
 ],
 "metadata": {
  "kernelspec": {
   "display_name": "Python 3",
   "language": "python",
   "name": "python3"
  },
  "language_info": {
   "codemirror_mode": {
    "name": "ipython",
    "version": 3
   },
   "file_extension": ".py",
   "mimetype": "text/x-python",
   "name": "python",
   "nbconvert_exporter": "python",
   "pygments_lexer": "ipython3",
   "version": "3.8.3"
  }
 },
 "nbformat": 4,
 "nbformat_minor": 2
}
